{
 "cells": [
  {
   "cell_type": "markdown",
   "metadata": {},
   "source": [
    "# 実習①　データ前処理\n"
   ]
  },
  {
   "cell_type": "markdown",
   "metadata": {},
   "source": [
    "## Rによる処理の基礎\n",
    "\n",
    "### パイプ処理入門\n",
    "\n",
    "パイプ処理：データを効率的に処理するための枠組み\n",
    "\n",
    "\n",
    "\n",
    "+ 通常の処理：ひとつの処理が完全に終わったら次の処理へと逐次的に処理する\n",
    "\n",
    "\n",
    "xというデータにf1, f2, ... fnの関数を順に適用したときのイメージ\n",
    "\n",
    "\n",
    "```\n",
    "fn(fn-1(...(f2(f1())\n",
    "```\n",
    "\n",
    "+ パイプ処理：終わった部分から徐々に次の処理に流していき、並列的に処理する\n",
    "\n",
    "ここでパイプ演算子を|として、\n",
    "\n",
    "```\n",
    "f1(x) | f2 | ... | fn\n",
    "```\n",
    "\n",
    "linuxなどで処理するときに重宝する\n",
    "\n",
    "\n",
    "\n",
    "Rでは\"dplyr\"パッケージを使う\n",
    "\n",
    "dplyrの使い方についてはRStudioチームのチートシートが参考になる\n",
    "\n",
    "https://www.rstudio.com/resources/cheatsheets/"
   ]
  },
  {
   "cell_type": "code",
   "execution_count": 1,
   "metadata": {
    "ExecuteTime": {
     "end_time": "2019-07-08T02:41:19.204997Z",
     "start_time": "2019-07-08T02:41:17.869Z"
    }
   },
   "outputs": [
    {
     "name": "stderr",
     "output_type": "stream",
     "text": [
      "\n",
      "Attaching package: 'dplyr'\n",
      "\n",
      "The following objects are masked from 'package:stats':\n",
      "\n",
      "    filter, lag\n",
      "\n",
      "The following objects are masked from 'package:base':\n",
      "\n",
      "    intersect, setdiff, setequal, union\n",
      "\n"
     ]
    }
   ],
   "source": [
    "library(\"dplyr\")"
   ]
  },
  {
   "cell_type": "markdown",
   "metadata": {},
   "source": [
    "組み込みのToothGrowthデータで実演"
   ]
  },
  {
   "cell_type": "code",
   "execution_count": 2,
   "metadata": {
    "ExecuteTime": {
     "end_time": "2019-07-08T02:41:19.848278Z",
     "start_time": "2019-07-08T02:41:17.986Z"
    }
   },
   "outputs": [
    {
     "data": {
      "text/html": [
       "\n",
       "<table width=\"100%\" summary=\"page for ToothGrowth {datasets}\"><tr><td>ToothGrowth {datasets}</td><td style=\"text-align: right;\">R Documentation</td></tr></table>\n",
       "\n",
       "<h2>The Effect of Vitamin C on Tooth Growth in Guinea Pigs</h2>\n",
       "\n",
       "<h3>Description</h3>\n",
       "\n",
       "<p>The response is the length of odontoblasts (cells responsible for\n",
       "tooth growth) in 60 guinea pigs.  Each animal received one of three\n",
       "dose levels of vitamin C (0.5, 1, and 2 mg/day) by one of two delivery\n",
       "methods, orange juice or ascorbic acid (a form of vitamin C and coded\n",
       "as <code>VC</code>).\n",
       "</p>\n",
       "\n",
       "\n",
       "<h3>Usage</h3>\n",
       "\n",
       "<pre>ToothGrowth</pre>\n",
       "\n",
       "\n",
       "<h3>Format</h3>\n",
       "\n",
       "<p>A data frame with 60 observations on 3 variables.\n",
       "</p>\n",
       "\n",
       "<table summary=\"Rd table\">\n",
       "<tr>\n",
       " <td style=\"text-align: right;\">\n",
       "    [,1]  </td><td style=\"text-align: left;\"> len   </td><td style=\"text-align: left;\"> numeric  </td><td style=\"text-align: left;\"> Tooth length</td>\n",
       "</tr>\n",
       "<tr>\n",
       " <td style=\"text-align: right;\">\n",
       "    [,2]  </td><td style=\"text-align: left;\"> supp  </td><td style=\"text-align: left;\"> factor   </td><td style=\"text-align: left;\"> Supplement type (VC or OJ).</td>\n",
       "</tr>\n",
       "<tr>\n",
       " <td style=\"text-align: right;\">\n",
       "    [,3]  </td><td style=\"text-align: left;\"> dose  </td><td style=\"text-align: left;\"> numeric  </td><td style=\"text-align: left;\"> Dose in milligrams/day\n",
       "  </td>\n",
       "</tr>\n",
       "\n",
       "</table>\n",
       "\n",
       "\n",
       "\n",
       "<h3>Source</h3>\n",
       "\n",
       "<p>C. I. Bliss (1952)\n",
       "<em>The Statistics of Bioassay</em>.\n",
       "Academic Press.\n",
       "</p>\n",
       "\n",
       "\n",
       "<h3>References</h3>\n",
       "\n",
       "<p>McNeil, D. R. (1977)\n",
       "<em>Interactive Data Analysis</em>.\n",
       "New York: Wiley.\n",
       "</p>\n",
       "<p>Crampton, E. W. (1947)\n",
       "The growth of the odontoblast of the incisor teeth as a criterion of\n",
       "vitamin C intake of the guinea pig. <em>The Journal of Nutrition</em>\n",
       "<b>33(5)</b>: 491&ndash;504.\n",
       "<a href=\"http://jn.nutrition.org/content/33/5/491.full.pdf\">http://jn.nutrition.org/content/33/5/491.full.pdf</a>\n",
       "</p>\n",
       "\n",
       "\n",
       "<h3>Examples</h3>\n",
       "\n",
       "<pre>\n",
       "require(graphics)\n",
       "coplot(len ~ dose | supp, data = ToothGrowth, panel = panel.smooth,\n",
       "       xlab = \"ToothGrowth data: length vs dose, given type of supplement\")\n",
       "</pre>\n",
       "\n",
       "<hr /><div style=\"text-align: center;\">[Package <em>datasets</em> version 3.4.4 ]</div>"
      ],
      "text/latex": [
       "\\inputencoding{utf8}\n",
       "\\HeaderA{ToothGrowth}{The Effect of Vitamin C on Tooth Growth in Guinea Pigs}{ToothGrowth}\n",
       "\\keyword{datasets}{ToothGrowth}\n",
       "%\n",
       "\\begin{Description}\\relax\n",
       "The response is the length of odontoblasts (cells responsible for\n",
       "tooth growth) in 60 guinea pigs.  Each animal received one of three\n",
       "dose levels of vitamin C (0.5, 1, and 2 mg/day) by one of two delivery\n",
       "methods, orange juice or ascorbic acid (a form of vitamin C and coded\n",
       "as \\code{VC}).\n",
       "\\end{Description}\n",
       "%\n",
       "\\begin{Usage}\n",
       "\\begin{verbatim}\n",
       "ToothGrowth\n",
       "\\end{verbatim}\n",
       "\\end{Usage}\n",
       "%\n",
       "\\begin{Format}\n",
       "A data frame with 60 observations on 3 variables.\n",
       "\n",
       "\\Tabular{rlll}{\n",
       "[,1]  & len   & numeric  & Tooth length\\\\{}\n",
       "[,2]  & supp  & factor   & Supplement type (VC or OJ).\\\\{}\n",
       "[,3]  & dose  & numeric  & Dose in milligrams/day\n",
       "}\n",
       "\\end{Format}\n",
       "%\n",
       "\\begin{Source}\\relax\n",
       "C. I. Bliss (1952)\n",
       "\\emph{The Statistics of Bioassay}.\n",
       "Academic Press.\n",
       "\\end{Source}\n",
       "%\n",
       "\\begin{References}\\relax\n",
       "McNeil, D. R. (1977)\n",
       "\\emph{Interactive Data Analysis}.\n",
       "New York: Wiley.\n",
       "\n",
       "Crampton, E. W. (1947)\n",
       "The growth of the odontoblast of the incisor teeth as a criterion of\n",
       "vitamin C intake of the guinea pig. \\emph{The Journal of Nutrition}\n",
       "\\bold{33(5)}: 491--504.\n",
       "\\url{http://jn.nutrition.org/content/33/5/491.full.pdf}\n",
       "\\end{References}\n",
       "%\n",
       "\\begin{Examples}\n",
       "\\begin{ExampleCode}\n",
       "require(graphics)\n",
       "coplot(len ~ dose | supp, data = ToothGrowth, panel = panel.smooth,\n",
       "       xlab = \"ToothGrowth data: length vs dose, given type of supplement\")\n",
       "\\end{ExampleCode}\n",
       "\\end{Examples}"
      ],
      "text/plain": [
       "ToothGrowth              package:datasets              R Documentation\n",
       "\n",
       "_\bT_\bh_\be _\bE_\bf_\bf_\be_\bc_\bt _\bo_\bf _\bV_\bi_\bt_\ba_\bm_\bi_\bn _\bC _\bo_\bn _\bT_\bo_\bo_\bt_\bh _\bG_\br_\bo_\bw_\bt_\bh _\bi_\bn _\bG_\bu_\bi_\bn_\be_\ba _\bP_\bi_\bg_\bs\n",
       "\n",
       "_\bD_\be_\bs_\bc_\br_\bi_\bp_\bt_\bi_\bo_\bn:\n",
       "\n",
       "     The response is the length of odontoblasts (cells responsible for\n",
       "     tooth growth) in 60 guinea pigs.  Each animal received one of\n",
       "     three dose levels of vitamin C (0.5, 1, and 2 mg/day) by one of\n",
       "     two delivery methods, orange juice or ascorbic acid (a form of\n",
       "     vitamin C and coded as 'VC').\n",
       "\n",
       "_\bU_\bs_\ba_\bg_\be:\n",
       "\n",
       "     ToothGrowth\n",
       "     \n",
       "_\bF_\bo_\br_\bm_\ba_\bt:\n",
       "\n",
       "     A data frame with 60 observations on 3 variables.\n",
       "\n",
       "       [,1]  len   numeric  Tooth length                \n",
       "       [,2]  supp  factor   Supplement type (VC or OJ). \n",
       "       [,3]  dose  numeric  Dose in milligrams/day      \n",
       "      \n",
       "_\bS_\bo_\bu_\br_\bc_\be:\n",
       "\n",
       "     C. I. Bliss (1952) _The Statistics of Bioassay_.  Academic Press.\n",
       "\n",
       "_\bR_\be_\bf_\be_\br_\be_\bn_\bc_\be_\bs:\n",
       "\n",
       "     McNeil, D. R. (1977) _Interactive Data Analysis_.  New York:\n",
       "     Wiley.\n",
       "\n",
       "     Crampton, E. W. (1947) The growth of the odontoblast of the\n",
       "     incisor teeth as a criterion of vitamin C intake of the guinea\n",
       "     pig. _The Journal of Nutrition_ *33(5)*: 491-504.  <URL:\n",
       "     http://jn.nutrition.org/content/33/5/491.full.pdf>\n",
       "\n",
       "_\bE_\bx_\ba_\bm_\bp_\bl_\be_\bs:\n",
       "\n",
       "     require(graphics)\n",
       "     coplot(len ~ dose | supp, data = ToothGrowth, panel = panel.smooth,\n",
       "            xlab = \"ToothGrowth data: length vs dose, given type of supplement\")\n",
       "     "
      ]
     },
     "metadata": {},
     "output_type": "display_data"
    }
   ],
   "source": [
    "# data description\n",
    "?ToothGrowth"
   ]
  },
  {
   "cell_type": "code",
   "execution_count": 3,
   "metadata": {
    "ExecuteTime": {
     "end_time": "2019-07-08T02:41:20.228262Z",
     "start_time": "2019-07-08T02:41:17.994Z"
    }
   },
   "outputs": [
    {
     "data": {
      "text/html": [
       "<table>\n",
       "<caption>A data.frame: 6 × 3</caption>\n",
       "<thead>\n",
       "\t<tr><th></th><th scope=col>len</th><th scope=col>supp</th><th scope=col>dose</th></tr>\n",
       "\t<tr><th></th><th scope=col>&lt;dbl&gt;</th><th scope=col>&lt;fct&gt;</th><th scope=col>&lt;dbl&gt;</th></tr>\n",
       "</thead>\n",
       "<tbody>\n",
       "\t<tr><th scope=row>1</th><td> 4.2</td><td>VC</td><td>0.5</td></tr>\n",
       "\t<tr><th scope=row>2</th><td>11.5</td><td>VC</td><td>0.5</td></tr>\n",
       "\t<tr><th scope=row>3</th><td> 7.3</td><td>VC</td><td>0.5</td></tr>\n",
       "\t<tr><th scope=row>4</th><td> 5.8</td><td>VC</td><td>0.5</td></tr>\n",
       "\t<tr><th scope=row>5</th><td> 6.4</td><td>VC</td><td>0.5</td></tr>\n",
       "\t<tr><th scope=row>6</th><td>10.0</td><td>VC</td><td>0.5</td></tr>\n",
       "</tbody>\n",
       "</table>\n"
      ],
      "text/latex": [
       "A data.frame: 6 × 3\n",
       "\\begin{tabular}{r|lll}\n",
       "  & len & supp & dose\\\\\n",
       "  & <dbl> & <fct> & <dbl>\\\\\n",
       "\\hline\n",
       "\t1 &  4.2 & VC & 0.5\\\\\n",
       "\t2 & 11.5 & VC & 0.5\\\\\n",
       "\t3 &  7.3 & VC & 0.5\\\\\n",
       "\t4 &  5.8 & VC & 0.5\\\\\n",
       "\t5 &  6.4 & VC & 0.5\\\\\n",
       "\t6 & 10.0 & VC & 0.5\\\\\n",
       "\\end{tabular}\n"
      ],
      "text/markdown": [
       "\n",
       "A data.frame: 6 × 3\n",
       "\n",
       "| <!--/--> | len &lt;dbl&gt; | supp &lt;fct&gt; | dose &lt;dbl&gt; |\n",
       "|---|---|---|---|\n",
       "| 1 |  4.2 | VC | 0.5 |\n",
       "| 2 | 11.5 | VC | 0.5 |\n",
       "| 3 |  7.3 | VC | 0.5 |\n",
       "| 4 |  5.8 | VC | 0.5 |\n",
       "| 5 |  6.4 | VC | 0.5 |\n",
       "| 6 | 10.0 | VC | 0.5 |\n",
       "\n"
      ],
      "text/plain": [
       "  len  supp dose\n",
       "1  4.2 VC   0.5 \n",
       "2 11.5 VC   0.5 \n",
       "3  7.3 VC   0.5 \n",
       "4  5.8 VC   0.5 \n",
       "5  6.4 VC   0.5 \n",
       "6 10.0 VC   0.5 "
      ]
     },
     "metadata": {},
     "output_type": "display_data"
    }
   ],
   "source": [
    "# ToothGrowth dataset\n",
    "\n",
    "##[,1]\tlen \tnumeric\tTooth length\n",
    "##[,2]\tsupp\tfactor\tSupplement type (VC or OJ).\n",
    "##[,3]\tdose\tnumeric\tDose in milligrams/day\n",
    "\n",
    "# 普通にhead()\n",
    "head(ToothGrowth)\n"
   ]
  },
  {
   "cell_type": "code",
   "execution_count": 4,
   "metadata": {
    "ExecuteTime": {
     "end_time": "2019-07-08T02:41:20.308048Z",
     "start_time": "2019-07-08T02:41:18.013Z"
    }
   },
   "outputs": [
    {
     "data": {
      "text/html": [
       "<table>\n",
       "<caption>A data.frame: 6 × 3</caption>\n",
       "<thead>\n",
       "\t<tr><th></th><th scope=col>len</th><th scope=col>supp</th><th scope=col>dose</th></tr>\n",
       "\t<tr><th></th><th scope=col>&lt;dbl&gt;</th><th scope=col>&lt;fct&gt;</th><th scope=col>&lt;dbl&gt;</th></tr>\n",
       "</thead>\n",
       "<tbody>\n",
       "\t<tr><th scope=row>1</th><td> 4.2</td><td>VC</td><td>0.5</td></tr>\n",
       "\t<tr><th scope=row>2</th><td>11.5</td><td>VC</td><td>0.5</td></tr>\n",
       "\t<tr><th scope=row>3</th><td> 7.3</td><td>VC</td><td>0.5</td></tr>\n",
       "\t<tr><th scope=row>4</th><td> 5.8</td><td>VC</td><td>0.5</td></tr>\n",
       "\t<tr><th scope=row>5</th><td> 6.4</td><td>VC</td><td>0.5</td></tr>\n",
       "\t<tr><th scope=row>6</th><td>10.0</td><td>VC</td><td>0.5</td></tr>\n",
       "</tbody>\n",
       "</table>\n"
      ],
      "text/latex": [
       "A data.frame: 6 × 3\n",
       "\\begin{tabular}{r|lll}\n",
       "  & len & supp & dose\\\\\n",
       "  & <dbl> & <fct> & <dbl>\\\\\n",
       "\\hline\n",
       "\t1 &  4.2 & VC & 0.5\\\\\n",
       "\t2 & 11.5 & VC & 0.5\\\\\n",
       "\t3 &  7.3 & VC & 0.5\\\\\n",
       "\t4 &  5.8 & VC & 0.5\\\\\n",
       "\t5 &  6.4 & VC & 0.5\\\\\n",
       "\t6 & 10.0 & VC & 0.5\\\\\n",
       "\\end{tabular}\n"
      ],
      "text/markdown": [
       "\n",
       "A data.frame: 6 × 3\n",
       "\n",
       "| <!--/--> | len &lt;dbl&gt; | supp &lt;fct&gt; | dose &lt;dbl&gt; |\n",
       "|---|---|---|---|\n",
       "| 1 |  4.2 | VC | 0.5 |\n",
       "| 2 | 11.5 | VC | 0.5 |\n",
       "| 3 |  7.3 | VC | 0.5 |\n",
       "| 4 |  5.8 | VC | 0.5 |\n",
       "| 5 |  6.4 | VC | 0.5 |\n",
       "| 6 | 10.0 | VC | 0.5 |\n",
       "\n"
      ],
      "text/plain": [
       "  len  supp dose\n",
       "1  4.2 VC   0.5 \n",
       "2 11.5 VC   0.5 \n",
       "3  7.3 VC   0.5 \n",
       "4  5.8 VC   0.5 \n",
       "5  6.4 VC   0.5 \n",
       "6 10.0 VC   0.5 "
      ]
     },
     "metadata": {},
     "output_type": "display_data"
    }
   ],
   "source": [
    "# これがこう書ける\n",
    "ToothGrowth %>% head()\n"
   ]
  },
  {
   "cell_type": "code",
   "execution_count": 5,
   "metadata": {
    "ExecuteTime": {
     "end_time": "2019-07-08T02:41:20.378862Z",
     "start_time": "2019-07-08T02:41:18.031Z"
    }
   },
   "outputs": [
    {
     "data": {
      "text/html": [
       "<table>\n",
       "<caption>A data.frame: 6 × 3</caption>\n",
       "<thead>\n",
       "\t<tr><th></th><th scope=col>len</th><th scope=col>supp</th><th scope=col>dose</th></tr>\n",
       "\t<tr><th></th><th scope=col>&lt;dbl&gt;</th><th scope=col>&lt;fct&gt;</th><th scope=col>&lt;dbl&gt;</th></tr>\n",
       "</thead>\n",
       "<tbody>\n",
       "\t<tr><th scope=row>1</th><td>15.2</td><td>OJ</td><td>0.5</td></tr>\n",
       "\t<tr><th scope=row>2</th><td>21.5</td><td>OJ</td><td>0.5</td></tr>\n",
       "\t<tr><th scope=row>3</th><td>17.6</td><td>OJ</td><td>0.5</td></tr>\n",
       "\t<tr><th scope=row>4</th><td> 9.7</td><td>OJ</td><td>0.5</td></tr>\n",
       "\t<tr><th scope=row>5</th><td>14.5</td><td>OJ</td><td>0.5</td></tr>\n",
       "\t<tr><th scope=row>6</th><td>10.0</td><td>OJ</td><td>0.5</td></tr>\n",
       "</tbody>\n",
       "</table>\n"
      ],
      "text/latex": [
       "A data.frame: 6 × 3\n",
       "\\begin{tabular}{r|lll}\n",
       "  & len & supp & dose\\\\\n",
       "  & <dbl> & <fct> & <dbl>\\\\\n",
       "\\hline\n",
       "\t1 & 15.2 & OJ & 0.5\\\\\n",
       "\t2 & 21.5 & OJ & 0.5\\\\\n",
       "\t3 & 17.6 & OJ & 0.5\\\\\n",
       "\t4 &  9.7 & OJ & 0.5\\\\\n",
       "\t5 & 14.5 & OJ & 0.5\\\\\n",
       "\t6 & 10.0 & OJ & 0.5\\\\\n",
       "\\end{tabular}\n"
      ],
      "text/markdown": [
       "\n",
       "A data.frame: 6 × 3\n",
       "\n",
       "| <!--/--> | len &lt;dbl&gt; | supp &lt;fct&gt; | dose &lt;dbl&gt; |\n",
       "|---|---|---|---|\n",
       "| 1 | 15.2 | OJ | 0.5 |\n",
       "| 2 | 21.5 | OJ | 0.5 |\n",
       "| 3 | 17.6 | OJ | 0.5 |\n",
       "| 4 |  9.7 | OJ | 0.5 |\n",
       "| 5 | 14.5 | OJ | 0.5 |\n",
       "| 6 | 10.0 | OJ | 0.5 |\n",
       "\n"
      ],
      "text/plain": [
       "  len  supp dose\n",
       "1 15.2 OJ   0.5 \n",
       "2 21.5 OJ   0.5 \n",
       "3 17.6 OJ   0.5 \n",
       "4  9.7 OJ   0.5 \n",
       "5 14.5 OJ   0.5 \n",
       "6 10.0 OJ   0.5 "
      ]
     },
     "metadata": {},
     "output_type": "display_data"
    }
   ],
   "source": [
    "# 行の指定\n",
    "# subset / filter\n",
    "# head(subset(ToothGrowth, supp == \"OJ\"))\n",
    "\n",
    "ToothGrowth %>% filter(supp == \"OJ\") %>% head()"
   ]
  },
  {
   "cell_type": "code",
   "execution_count": 6,
   "metadata": {
    "ExecuteTime": {
     "end_time": "2019-07-08T02:41:20.450668Z",
     "start_time": "2019-07-08T02:41:18.046Z"
    }
   },
   "outputs": [
    {
     "data": {
      "text/html": [
       "<table>\n",
       "<caption>A data.frame: 6 × 2</caption>\n",
       "<thead>\n",
       "\t<tr><th></th><th scope=col>length</th><th scope=col>supp_type</th></tr>\n",
       "\t<tr><th></th><th scope=col>&lt;dbl&gt;</th><th scope=col>&lt;fct&gt;</th></tr>\n",
       "</thead>\n",
       "<tbody>\n",
       "\t<tr><th scope=row>1</th><td> 4.2</td><td>VC</td></tr>\n",
       "\t<tr><th scope=row>2</th><td>11.5</td><td>VC</td></tr>\n",
       "\t<tr><th scope=row>3</th><td> 7.3</td><td>VC</td></tr>\n",
       "\t<tr><th scope=row>4</th><td> 5.8</td><td>VC</td></tr>\n",
       "\t<tr><th scope=row>5</th><td> 6.4</td><td>VC</td></tr>\n",
       "\t<tr><th scope=row>6</th><td>10.0</td><td>VC</td></tr>\n",
       "</tbody>\n",
       "</table>\n"
      ],
      "text/latex": [
       "A data.frame: 6 × 2\n",
       "\\begin{tabular}{r|ll}\n",
       "  & length & supp\\_type\\\\\n",
       "  & <dbl> & <fct>\\\\\n",
       "\\hline\n",
       "\t1 &  4.2 & VC\\\\\n",
       "\t2 & 11.5 & VC\\\\\n",
       "\t3 &  7.3 & VC\\\\\n",
       "\t4 &  5.8 & VC\\\\\n",
       "\t5 &  6.4 & VC\\\\\n",
       "\t6 & 10.0 & VC\\\\\n",
       "\\end{tabular}\n"
      ],
      "text/markdown": [
       "\n",
       "A data.frame: 6 × 2\n",
       "\n",
       "| <!--/--> | length &lt;dbl&gt; | supp_type &lt;fct&gt; |\n",
       "|---|---|---|\n",
       "| 1 |  4.2 | VC |\n",
       "| 2 | 11.5 | VC |\n",
       "| 3 |  7.3 | VC |\n",
       "| 4 |  5.8 | VC |\n",
       "| 5 |  6.4 | VC |\n",
       "| 6 | 10.0 | VC |\n",
       "\n"
      ],
      "text/plain": [
       "  length supp_type\n",
       "1  4.2   VC       \n",
       "2 11.5   VC       \n",
       "3  7.3   VC       \n",
       "4  5.8   VC       \n",
       "5  6.4   VC       \n",
       "6 10.0   VC       "
      ]
     },
     "metadata": {},
     "output_type": "display_data"
    }
   ],
   "source": [
    "# 列の指定\n",
    "# select\n",
    "# len列とsupp列を、len列を「length」、supp列を「supp_type」として出力\n",
    "\n",
    "ToothGrowth %>% select(length=len, supp_type=supp) %>% head()"
   ]
  },
  {
   "cell_type": "markdown",
   "metadata": {},
   "source": [
    "### テキスト処理の基礎\n",
    "#### stringrパッケージ"
   ]
  },
  {
   "cell_type": "code",
   "execution_count": 7,
   "metadata": {
    "ExecuteTime": {
     "end_time": "2019-07-08T02:41:20.568353Z",
     "start_time": "2019-07-08T02:41:18.155Z"
    }
   },
   "outputs": [],
   "source": [
    "# libraryの読み込み\n",
    "library('stringr')"
   ]
  },
  {
   "cell_type": "markdown",
   "metadata": {},
   "source": [
    "\n",
    "+ 検索\n",
    "    + str_subset() : 指定されたキーワードが含まれている文字列を返す\n",
    "    + str_detect() : 指定されたキーワードが含まれていればTRUE, そうでなければFALSEを返す\n",
    "    + grep: Rの標準の関数。ヒットしたベクトルの位置を返す\n",
    "+ 置換\n",
    "    + str_replace() : 指定された検索語を置換語で置き換える\n",
    "    + sub: Rの標準の関数。検索語を置換語で置き換える\n",
    "\n"
   ]
  },
  {
   "cell_type": "code",
   "execution_count": 8,
   "metadata": {
    "ExecuteTime": {
     "end_time": "2019-07-08T02:41:20.686037Z",
     "start_time": "2019-07-08T02:41:18.249Z"
    }
   },
   "outputs": [
    {
     "data": {
      "text/html": [
       "<ol class=list-inline>\n",
       "\t<li>'January'</li>\n",
       "\t<li>'February'</li>\n",
       "\t<li>'March'</li>\n",
       "\t<li>'April'</li>\n",
       "\t<li>'May'</li>\n",
       "\t<li>'June'</li>\n",
       "\t<li>'July'</li>\n",
       "\t<li>'August'</li>\n",
       "\t<li>'September'</li>\n",
       "\t<li>'October'</li>\n",
       "\t<li>'November'</li>\n",
       "\t<li>'December'</li>\n",
       "</ol>\n"
      ],
      "text/latex": [
       "\\begin{enumerate*}\n",
       "\\item 'January'\n",
       "\\item 'February'\n",
       "\\item 'March'\n",
       "\\item 'April'\n",
       "\\item 'May'\n",
       "\\item 'June'\n",
       "\\item 'July'\n",
       "\\item 'August'\n",
       "\\item 'September'\n",
       "\\item 'October'\n",
       "\\item 'November'\n",
       "\\item 'December'\n",
       "\\end{enumerate*}\n"
      ],
      "text/markdown": [
       "1. 'January'\n",
       "2. 'February'\n",
       "3. 'March'\n",
       "4. 'April'\n",
       "5. 'May'\n",
       "6. 'June'\n",
       "7. 'July'\n",
       "8. 'August'\n",
       "9. 'September'\n",
       "10. 'October'\n",
       "11. 'November'\n",
       "12. 'December'\n",
       "\n",
       "\n"
      ],
      "text/plain": [
       " [1] \"January\"   \"February\"  \"March\"     \"April\"     \"May\"       \"June\"     \n",
       " [7] \"July\"      \"August\"    \"September\" \"October\"   \"November\"  \"December\" "
      ]
     },
     "metadata": {},
     "output_type": "display_data"
    }
   ],
   "source": [
    "# 月名のリスト\n",
    "(months = month.name) "
   ]
  },
  {
   "cell_type": "code",
   "execution_count": 9,
   "metadata": {
    "ExecuteTime": {
     "end_time": "2019-07-08T02:41:20.744880Z",
     "start_time": "2019-07-08T02:41:18.257Z"
    }
   },
   "outputs": [
    {
     "data": {
      "text/html": [
       "<ol class=list-inline>\n",
       "\t<li>'January'</li>\n",
       "\t<li>'February'</li>\n",
       "\t<li>'March'</li>\n",
       "\t<li>'April'</li>\n",
       "\t<li>'September'</li>\n",
       "\t<li>'October'</li>\n",
       "\t<li>'November'</li>\n",
       "\t<li>'December'</li>\n",
       "</ol>\n"
      ],
      "text/latex": [
       "\\begin{enumerate*}\n",
       "\\item 'January'\n",
       "\\item 'February'\n",
       "\\item 'March'\n",
       "\\item 'April'\n",
       "\\item 'September'\n",
       "\\item 'October'\n",
       "\\item 'November'\n",
       "\\item 'December'\n",
       "\\end{enumerate*}\n"
      ],
      "text/markdown": [
       "1. 'January'\n",
       "2. 'February'\n",
       "3. 'March'\n",
       "4. 'April'\n",
       "5. 'September'\n",
       "6. 'October'\n",
       "7. 'November'\n",
       "8. 'December'\n",
       "\n",
       "\n"
      ],
      "text/plain": [
       "[1] \"January\"   \"February\"  \"March\"     \"April\"     \"September\" \"October\"  \n",
       "[7] \"November\"  \"December\" "
      ]
     },
     "metadata": {},
     "output_type": "display_data"
    }
   ],
   "source": [
    "# \"r\"を含む月名を抜き出す\n",
    "# str_subset\n",
    "months %>% str_subset('r')"
   ]
  },
  {
   "cell_type": "code",
   "execution_count": 10,
   "metadata": {
    "ExecuteTime": {
     "end_time": "2019-07-08T02:41:20.802725Z",
     "start_time": "2019-07-08T02:41:18.269Z"
    }
   },
   "outputs": [
    {
     "data": {
      "text/html": [
       "<ol class=list-inline>\n",
       "\t<li>TRUE</li>\n",
       "\t<li>TRUE</li>\n",
       "\t<li>TRUE</li>\n",
       "\t<li>TRUE</li>\n",
       "\t<li>FALSE</li>\n",
       "\t<li>FALSE</li>\n",
       "\t<li>FALSE</li>\n",
       "\t<li>FALSE</li>\n",
       "\t<li>TRUE</li>\n",
       "\t<li>TRUE</li>\n",
       "\t<li>TRUE</li>\n",
       "\t<li>TRUE</li>\n",
       "</ol>\n"
      ],
      "text/latex": [
       "\\begin{enumerate*}\n",
       "\\item TRUE\n",
       "\\item TRUE\n",
       "\\item TRUE\n",
       "\\item TRUE\n",
       "\\item FALSE\n",
       "\\item FALSE\n",
       "\\item FALSE\n",
       "\\item FALSE\n",
       "\\item TRUE\n",
       "\\item TRUE\n",
       "\\item TRUE\n",
       "\\item TRUE\n",
       "\\end{enumerate*}\n"
      ],
      "text/markdown": [
       "1. TRUE\n",
       "2. TRUE\n",
       "3. TRUE\n",
       "4. TRUE\n",
       "5. FALSE\n",
       "6. FALSE\n",
       "7. FALSE\n",
       "8. FALSE\n",
       "9. TRUE\n",
       "10. TRUE\n",
       "11. TRUE\n",
       "12. TRUE\n",
       "\n",
       "\n"
      ],
      "text/plain": [
       " [1]  TRUE  TRUE  TRUE  TRUE FALSE FALSE FALSE FALSE  TRUE  TRUE  TRUE  TRUE"
      ]
     },
     "metadata": {},
     "output_type": "display_data"
    }
   ],
   "source": [
    "# str_detect では真偽値が返る\n",
    "months %>% str_detect('r')"
   ]
  },
  {
   "cell_type": "markdown",
   "metadata": {},
   "source": [
    "### 正規表現\n",
    "\n",
    "**正規表現** *regular expression* :柔軟に文字列を処理するための記法\n",
    "\n",
    "※言語ごとに記法に差異があるので注意する\n"
   ]
  },
  {
   "cell_type": "markdown",
   "metadata": {},
   "source": [
    "#### 基本\n",
    "\n",
    "|記号|説明|\n",
    "|---|---|\n",
    "|^|行頭|\n",
    "|$|行頭|\n",
    "|.|任意の1文字|\n",
    "|\\||または|\n",
    "\n",
    "#### エスケープシーケンス\n",
    "\n",
    "|記号|説明|\n",
    "|---|---|\n",
    "|\\\\\\\\d|数字(digits)|\n",
    "|\\\\\\\\w|単語に使われる文字・数字・アンダーバー(words)|\n",
    "|\\\\\\\\s|空白(spaces)|\n",
    "|\\\\n|改行(newline)|\n",
    "|\\\\t|タブ(tab)|\n"
   ]
  },
  {
   "cell_type": "markdown",
   "metadata": {},
   "source": [
    "\n",
    "#### 量指定子\n",
    "\n",
    "|記号|説明|使用例|結果|\n",
    "|---|---|---|---|\n",
    "|*|0回以上の繰り返し|||\n",
    "|+|1回以上の繰り返し|\\\\\\\\d+|1回以上の数字の連続|\n",
    "|?|0または1回|https?|httpまたはhttps|\n",
    "\n",
    "#### エスケープ文字\n",
    "\n",
    "正規表現など特殊な機能を持つ文字については\\\\\\\\(バックスラッシュまたは円記号２つ)を直前につける\n"
   ]
  },
  {
   "cell_type": "markdown",
   "metadata": {},
   "source": [
    "#### 制御\n",
    "\n",
    "|記号|説明|使用例|結果|\n",
    "|---|---|---|---|\n",
    "|[ ]|括弧内に含まれる文字にマッチ|[abcde]|abcdeのいずれか1文字|\n",
    "|[^ ]|括弧内に含まれない文字にマッチ|[^abcde]|abcde以外の文字1文字|\n",
    "|( )|グループ化|(abcde)|「abcde」という連続する文字のグループ|\n",
    "\n",
    "\n",
    "\n",
    "    "
   ]
  },
  {
   "cell_type": "markdown",
   "metadata": {},
   "source": [
    "#### その他の文字クラス\n",
    "\n",
    "|記号|説明|\n",
    "|---|---|\n",
    "|[:alpha:]|アルファベット|\n",
    "|[:lower:]|小文字アルファベット|\n",
    "|[:upper:]|大文字アルファベット|\n",
    "|[:digit:]|数字|\n",
    "|[:alnum:]|アルファベット＋数字|\n",
    "|[:punct:]|記号|\n",
    "|[:graph:]|数字＋記号＋アルファベット|\n",
    "|[:blank:]|空白、タブ|\n"
   ]
  },
  {
   "cell_type": "markdown",
   "metadata": {},
   "source": [
    "### 正規表現の練習\n"
   ]
  },
  {
   "cell_type": "code",
   "execution_count": 11,
   "metadata": {
    "ExecuteTime": {
     "end_time": "2019-07-08T02:41:20.928390Z",
     "start_time": "2019-07-08T02:41:19.100Z"
    }
   },
   "outputs": [
    {
     "data": {
      "text/html": [
       "'abc'"
      ],
      "text/latex": [
       "'abc'"
      ],
      "text/markdown": [
       "'abc'"
      ],
      "text/plain": [
       "[1] \"abc\""
      ]
     },
     "metadata": {},
     "output_type": "display_data"
    }
   ],
   "source": [
    "# 冒頭三文字\n",
    "'abcdefg' %>% str_extract('^...')"
   ]
  },
  {
   "cell_type": "code",
   "execution_count": 12,
   "metadata": {
    "ExecuteTime": {
     "end_time": "2019-07-08T02:41:20.986236Z",
     "start_time": "2019-07-08T02:41:19.108Z"
    }
   },
   "outputs": [
    {
     "data": {
      "text/html": [
       "'bcd'"
      ],
      "text/latex": [
       "'bcd'"
      ],
      "text/markdown": [
       "'bcd'"
      ],
      "text/plain": [
       "[1] \"bcd\""
      ]
     },
     "metadata": {},
     "output_type": "display_data"
    }
   ],
   "source": [
    "# 普通の文字列\n",
    "'abcdefg' %>% str_extract('bcd')"
   ]
  },
  {
   "cell_type": "code",
   "execution_count": 13,
   "metadata": {
    "ExecuteTime": {
     "end_time": "2019-07-08T02:41:21.040093Z",
     "start_time": "2019-07-08T02:41:19.129Z"
    }
   },
   "outputs": [
    {
     "data": {
      "text/html": [
       "'efg'"
      ],
      "text/latex": [
       "'efg'"
      ],
      "text/markdown": [
       "'efg'"
      ],
      "text/plain": [
       "[1] \"efg\""
      ]
     },
     "metadata": {},
     "output_type": "display_data"
    }
   ],
   "source": [
    "# 末尾三文字\n",
    "'abcdefg' %>% str_extract('...$')"
   ]
  },
  {
   "cell_type": "code",
   "execution_count": 14,
   "metadata": {
    "ExecuteTime": {
     "end_time": "2019-07-08T02:41:21.096940Z",
     "start_time": "2019-07-08T02:41:19.136Z"
    }
   },
   "outputs": [
    {
     "data": {
      "text/html": [
       "<ol>\n",
       "\t<li><ol class=list-inline>\n",
       "\t<li>'ab'</li>\n",
       "\t<li>'ef'</li>\n",
       "</ol>\n",
       "</li>\n",
       "</ol>\n"
      ],
      "text/latex": [
       "\\begin{enumerate}\n",
       "\\item \\begin{enumerate*}\n",
       "\\item 'ab'\n",
       "\\item 'ef'\n",
       "\\end{enumerate*}\n",
       "\n",
       "\\end{enumerate}\n"
      ],
      "text/markdown": [
       "1. 1. 'ab'\n",
       "2. 'ef'\n",
       "\n",
       "\n",
       "\n",
       "\n",
       "\n"
      ],
      "text/plain": [
       "[[1]]\n",
       "[1] \"ab\" \"ef\"\n"
      ]
     },
     "metadata": {},
     "output_type": "display_data"
    }
   ],
   "source": [
    "# abまたはefにマッチしたものをすべて\n",
    "'abcdefg' %>% str_extract_all('ab|ef')"
   ]
  },
  {
   "cell_type": "code",
   "execution_count": 15,
   "metadata": {
    "ExecuteTime": {
     "end_time": "2019-07-08T02:41:21.141819Z",
     "start_time": "2019-07-08T02:41:19.144Z"
    }
   },
   "outputs": [],
   "source": [
    "# 例文\n",
    "sentence = 'googleのトップページはhttps://www.google.co.jp/です'"
   ]
  },
  {
   "cell_type": "code",
   "execution_count": 16,
   "metadata": {
    "ExecuteTime": {
     "end_time": "2019-07-08T02:41:21.189692Z",
     "start_time": "2019-07-08T02:41:19.154Z"
    }
   },
   "outputs": [
    {
     "data": {
      "text/html": [
       "'google'"
      ],
      "text/latex": [
       "'google'"
      ],
      "text/markdown": [
       "'google'"
      ],
      "text/plain": [
       "[1] \"google\""
      ]
     },
     "metadata": {},
     "output_type": "display_data"
    }
   ],
   "source": [
    "# 冒頭の英字のみを抜き出す\n",
    "sentence %>% str_extract('^[A-z]+')"
   ]
  },
  {
   "cell_type": "code",
   "execution_count": 17,
   "metadata": {
    "ExecuteTime": {
     "end_time": "2019-07-08T02:41:21.242551Z",
     "start_time": "2019-07-08T02:41:19.166Z"
    }
   },
   "outputs": [
    {
     "data": {
      "text/html": [
       "'https://www.google.co.jp/'"
      ],
      "text/latex": [
       "'https://www.google.co.jp/'"
      ],
      "text/markdown": [
       "'https://www.google.co.jp/'"
      ],
      "text/plain": [
       "[1] \"https://www.google.co.jp/\""
      ]
     },
     "metadata": {},
     "output_type": "display_data"
    }
   ],
   "source": [
    "# urlを抜き出してみる\n",
    "sentence %>% str_extract('https?[A-z:/\\\\.]*')"
   ]
  },
  {
   "cell_type": "code",
   "execution_count": 18,
   "metadata": {
    "ExecuteTime": {
     "end_time": "2019-07-08T02:41:21.285436Z",
     "start_time": "2019-07-08T02:41:19.175Z"
    }
   },
   "outputs": [],
   "source": [
    "# 例文\n",
    "sentence = \"computational social sciences\""
   ]
  },
  {
   "cell_type": "code",
   "execution_count": 19,
   "metadata": {
    "ExecuteTime": {
     "end_time": "2019-07-08T02:41:21.332310Z",
     "start_time": "2019-07-08T02:41:19.187Z"
    }
   },
   "outputs": [
    {
     "data": {
      "text/html": [
       "<ol>\n",
       "\t<li><ol class=list-inline>\n",
       "\t<li>'computational'</li>\n",
       "\t<li>'social'</li>\n",
       "\t<li>'sciences'</li>\n",
       "</ol>\n",
       "</li>\n",
       "</ol>\n"
      ],
      "text/latex": [
       "\\begin{enumerate}\n",
       "\\item \\begin{enumerate*}\n",
       "\\item 'computational'\n",
       "\\item 'social'\n",
       "\\item 'sciences'\n",
       "\\end{enumerate*}\n",
       "\n",
       "\\end{enumerate}\n"
      ],
      "text/markdown": [
       "1. 1. 'computational'\n",
       "2. 'social'\n",
       "3. 'sciences'\n",
       "\n",
       "\n",
       "\n",
       "\n",
       "\n"
      ],
      "text/plain": [
       "[[1]]\n",
       "[1] \"computational\" \"social\"        \"sciences\"     \n"
      ]
     },
     "metadata": {},
     "output_type": "display_data"
    }
   ],
   "source": [
    "# 単語(アルファベットの連続)をすべて抜き出す\n",
    "sentence %>% str_extract_all('[A-z]+') "
   ]
  },
  {
   "cell_type": "code",
   "execution_count": 20,
   "metadata": {
    "ExecuteTime": {
     "end_time": "2019-07-08T02:41:21.388160Z",
     "start_time": "2019-07-08T02:41:19.203Z"
    }
   },
   "outputs": [
    {
     "data": {
      "text/html": [
       "<ol>\n",
       "\t<li><ol class=list-inline>\n",
       "\t<li>'social'</li>\n",
       "\t<li>'sciences'</li>\n",
       "</ol>\n",
       "</li>\n",
       "</ol>\n"
      ],
      "text/latex": [
       "\\begin{enumerate}\n",
       "\\item \\begin{enumerate*}\n",
       "\\item 'social'\n",
       "\\item 'sciences'\n",
       "\\end{enumerate*}\n",
       "\n",
       "\\end{enumerate}\n"
      ],
      "text/markdown": [
       "1. 1. 'social'\n",
       "2. 'sciences'\n",
       "\n",
       "\n",
       "\n",
       "\n",
       "\n"
      ],
      "text/plain": [
       "[[1]]\n",
       "[1] \"social\"   \"sciences\"\n"
      ]
     },
     "metadata": {},
     "output_type": "display_data"
    }
   ],
   "source": [
    "# sで始まる単語をすべて抜き出す\n",
    "sentence %>% str_extract_all('s[A-z]*')"
   ]
  },
  {
   "cell_type": "code",
   "execution_count": 21,
   "metadata": {
    "ExecuteTime": {
     "end_time": "2019-07-08T02:41:21.450994Z",
     "start_time": "2019-07-08T02:41:19.210Z"
    }
   },
   "outputs": [
    {
     "data": {
      "text/html": [
       "<ol>\n",
       "\t<li><ol class=list-inline>\n",
       "\t<li>'computational'</li>\n",
       "\t<li>'social'</li>\n",
       "</ol>\n",
       "</li>\n",
       "</ol>\n"
      ],
      "text/latex": [
       "\\begin{enumerate}\n",
       "\\item \\begin{enumerate*}\n",
       "\\item 'computational'\n",
       "\\item 'social'\n",
       "\\end{enumerate*}\n",
       "\n",
       "\\end{enumerate}\n"
      ],
      "text/markdown": [
       "1. 1. 'computational'\n",
       "2. 'social'\n",
       "\n",
       "\n",
       "\n",
       "\n",
       "\n"
      ],
      "text/plain": [
       "[[1]]\n",
       "[1] \"computational\" \"social\"       \n"
      ]
     },
     "metadata": {},
     "output_type": "display_data"
    }
   ],
   "source": [
    "# -alで終わる単語をすべて抜き出す\n",
    "sentence %>% str_extract_all('[A-z]*al')"
   ]
  },
  {
   "cell_type": "code",
   "execution_count": 22,
   "metadata": {
    "ExecuteTime": {
     "end_time": "2019-07-08T02:41:21.507842Z",
     "start_time": "2019-07-08T02:41:19.222Z"
    }
   },
   "outputs": [
    {
     "data": {
      "text/html": [
       "<ol>\n",
       "\t<li><ol class=list-inline>\n",
       "\t<li>'o'</li>\n",
       "\t<li>'u'</li>\n",
       "\t<li>'a'</li>\n",
       "\t<li>'i'</li>\n",
       "\t<li>'o'</li>\n",
       "\t<li>'a'</li>\n",
       "\t<li>'o'</li>\n",
       "\t<li>'i'</li>\n",
       "\t<li>'a'</li>\n",
       "\t<li>'i'</li>\n",
       "\t<li>'e'</li>\n",
       "\t<li>'e'</li>\n",
       "</ol>\n",
       "</li>\n",
       "</ol>\n"
      ],
      "text/latex": [
       "\\begin{enumerate}\n",
       "\\item \\begin{enumerate*}\n",
       "\\item 'o'\n",
       "\\item 'u'\n",
       "\\item 'a'\n",
       "\\item 'i'\n",
       "\\item 'o'\n",
       "\\item 'a'\n",
       "\\item 'o'\n",
       "\\item 'i'\n",
       "\\item 'a'\n",
       "\\item 'i'\n",
       "\\item 'e'\n",
       "\\item 'e'\n",
       "\\end{enumerate*}\n",
       "\n",
       "\\end{enumerate}\n"
      ],
      "text/markdown": [
       "1. 1. 'o'\n",
       "2. 'u'\n",
       "3. 'a'\n",
       "4. 'i'\n",
       "5. 'o'\n",
       "6. 'a'\n",
       "7. 'o'\n",
       "8. 'i'\n",
       "9. 'a'\n",
       "10. 'i'\n",
       "11. 'e'\n",
       "12. 'e'\n",
       "\n",
       "\n",
       "\n",
       "\n",
       "\n"
      ],
      "text/plain": [
       "[[1]]\n",
       " [1] \"o\" \"u\" \"a\" \"i\" \"o\" \"a\" \"o\" \"i\" \"a\" \"i\" \"e\" \"e\"\n"
      ]
     },
     "metadata": {},
     "output_type": "display_data"
    }
   ],
   "source": [
    "# 母音をすべて抜き出す\n",
    "sentence %>% str_extract_all('[aiueo]')"
   ]
  },
  {
   "cell_type": "code",
   "execution_count": 23,
   "metadata": {
    "ExecuteTime": {
     "end_time": "2019-07-08T02:41:21.561697Z",
     "start_time": "2019-07-08T02:41:19.233Z"
    }
   },
   "outputs": [
    {
     "data": {
      "text/html": [
       "<ol>\n",
       "\t<li><ol class=list-inline>\n",
       "\t<li>'o'</li>\n",
       "\t<li>'u'</li>\n",
       "\t<li>'a'</li>\n",
       "\t<li>'i'</li>\n",
       "\t<li>'o'</li>\n",
       "\t<li>'a'</li>\n",
       "\t<li>'o'</li>\n",
       "\t<li>'i'</li>\n",
       "\t<li>'a'</li>\n",
       "\t<li>'i'</li>\n",
       "\t<li>'e'</li>\n",
       "\t<li>'e'</li>\n",
       "</ol>\n",
       "</li>\n",
       "</ol>\n"
      ],
      "text/latex": [
       "\\begin{enumerate}\n",
       "\\item \\begin{enumerate*}\n",
       "\\item 'o'\n",
       "\\item 'u'\n",
       "\\item 'a'\n",
       "\\item 'i'\n",
       "\\item 'o'\n",
       "\\item 'a'\n",
       "\\item 'o'\n",
       "\\item 'i'\n",
       "\\item 'a'\n",
       "\\item 'i'\n",
       "\\item 'e'\n",
       "\\item 'e'\n",
       "\\end{enumerate*}\n",
       "\n",
       "\\end{enumerate}\n"
      ],
      "text/markdown": [
       "1. 1. 'o'\n",
       "2. 'u'\n",
       "3. 'a'\n",
       "4. 'i'\n",
       "5. 'o'\n",
       "6. 'a'\n",
       "7. 'o'\n",
       "8. 'i'\n",
       "9. 'a'\n",
       "10. 'i'\n",
       "11. 'e'\n",
       "12. 'e'\n",
       "\n",
       "\n",
       "\n",
       "\n",
       "\n"
      ],
      "text/plain": [
       "[[1]]\n",
       " [1] \"o\" \"u\" \"a\" \"i\" \"o\" \"a\" \"o\" \"i\" \"a\" \"i\" \"e\" \"e\"\n"
      ]
     },
     "metadata": {},
     "output_type": "display_data"
    }
   ],
   "source": [
    "# 母音をすべて抜き出す\n",
    "sentence %>% str_extract_all('[aiueo]')"
   ]
  },
  {
   "cell_type": "markdown",
   "metadata": {},
   "source": [
    "### その他処理\n",
    "\n",
    "#### in 演算子\n",
    "\n",
    "%in% を使うと要素がベクトルの中に含まれるかを判定できる\n",
    "\n"
   ]
  },
  {
   "cell_type": "code",
   "execution_count": 24,
   "metadata": {
    "ExecuteTime": {
     "end_time": "2019-07-08T02:41:21.615553Z",
     "start_time": "2019-07-08T02:41:19.395Z"
    }
   },
   "outputs": [
    {
     "data": {
      "text/html": [
       "<ol class=list-inline>\n",
       "\t<li>TRUE</li>\n",
       "\t<li>FALSE</li>\n",
       "\t<li>FALSE</li>\n",
       "\t<li>FALSE</li>\n",
       "\t<li>TRUE</li>\n",
       "</ol>\n"
      ],
      "text/latex": [
       "\\begin{enumerate*}\n",
       "\\item TRUE\n",
       "\\item FALSE\n",
       "\\item FALSE\n",
       "\\item FALSE\n",
       "\\item TRUE\n",
       "\\end{enumerate*}\n"
      ],
      "text/markdown": [
       "1. TRUE\n",
       "2. FALSE\n",
       "3. FALSE\n",
       "4. FALSE\n",
       "5. TRUE\n",
       "\n",
       "\n"
      ],
      "text/plain": [
       "[1]  TRUE FALSE FALSE FALSE  TRUE"
      ]
     },
     "metadata": {},
     "output_type": "display_data"
    }
   ],
   "source": [
    "c(1,2,3,4,5) %in% c(1,5) # 要素が1または5であればTRUE"
   ]
  },
  {
   "cell_type": "markdown",
   "metadata": {},
   "source": [
    "## RMecabの基礎\n",
    "\n",
    "+ MeCab: 形態素解析エンジン\n",
    "+ RMeCab: MeCabをR上で使うためのパッケージ\n"
   ]
  },
  {
   "cell_type": "code",
   "execution_count": 25,
   "metadata": {
    "ExecuteTime": {
     "end_time": "2019-07-08T02:41:21.661431Z",
     "start_time": "2019-07-08T02:41:19.556Z"
    }
   },
   "outputs": [],
   "source": [
    "#install.packages('RMeCab', repos='http://rmecab.jp/R')"
   ]
  },
  {
   "cell_type": "code",
   "execution_count": 26,
   "metadata": {
    "ExecuteTime": {
     "end_time": "2019-07-08T02:41:21.727256Z",
     "start_time": "2019-07-08T02:41:19.568Z"
    }
   },
   "outputs": [],
   "source": [
    "library('RMeCab')"
   ]
  },
  {
   "cell_type": "code",
   "execution_count": 27,
   "metadata": {
    "ExecuteTime": {
     "end_time": "2019-07-08T02:41:21.836962Z",
     "start_time": "2019-07-08T02:41:19.592Z"
    }
   },
   "outputs": [
    {
     "data": {
      "text/html": [
       "<dl class=dl-horizontal>\n",
       "\t<dt>名詞</dt>\n",
       "\t\t<dd>'今日'</dd>\n",
       "\t<dt>助詞</dt>\n",
       "\t\t<dd>'は'</dd>\n",
       "\t<dt>名詞</dt>\n",
       "\t\t<dd>'本'</dd>\n",
       "\t<dt>助詞</dt>\n",
       "\t\t<dd>'を'</dd>\n",
       "\t<dt>動詞</dt>\n",
       "\t\t<dd>'読ん'</dd>\n",
       "\t<dt>助動詞</dt>\n",
       "\t\t<dd>'だ'</dd>\n",
       "</dl>\n"
      ],
      "text/latex": [
       "\\begin{description*}\n",
       "\\item[名詞] '今日'\n",
       "\\item[助詞] 'は'\n",
       "\\item[名詞] '本'\n",
       "\\item[助詞] 'を'\n",
       "\\item[動詞] '読ん'\n",
       "\\item[助動詞] 'だ'\n",
       "\\end{description*}\n"
      ],
      "text/markdown": [
       "名詞\n",
       ":   '今日'助詞\n",
       ":   'は'名詞\n",
       ":   '本'助詞\n",
       ":   'を'動詞\n",
       ":   '読ん'助動詞\n",
       ":   'だ'\n",
       "\n"
      ],
      "text/plain": [
       "  名詞   助詞   名詞   助詞   動詞 助動詞 \n",
       "\"今日\"   \"は\"   \"本\"   \"を\" \"読ん\"   \"だ\" "
      ]
     },
     "metadata": {},
     "output_type": "display_data"
    }
   ],
   "source": [
    "RMeCabC('今日は本を読んだ') %>% unlist()"
   ]
  },
  {
   "cell_type": "code",
   "execution_count": 28,
   "metadata": {
    "ExecuteTime": {
     "end_time": "2019-07-08T02:41:21.884834Z",
     "start_time": "2019-07-08T02:41:19.606Z"
    }
   },
   "outputs": [],
   "source": [
    "test = RMeCabC('今日は本を読んだ') %>% unlist()"
   ]
  },
  {
   "cell_type": "code",
   "execution_count": null,
   "metadata": {},
   "outputs": [],
   "source": []
  },
  {
   "cell_type": "code",
   "execution_count": 29,
   "metadata": {
    "ExecuteTime": {
     "end_time": "2019-07-08T02:41:21.935699Z",
     "start_time": "2019-07-08T02:41:19.617Z"
    }
   },
   "outputs": [
    {
     "data": {
      "text/html": [
       "<dl class=dl-horizontal>\n",
       "\t<dt>名詞</dt>\n",
       "\t\t<dd>'今日'</dd>\n",
       "\t<dt>名詞</dt>\n",
       "\t\t<dd>'本'</dd>\n",
       "\t<dt>動詞</dt>\n",
       "\t\t<dd>'読ん'</dd>\n",
       "</dl>\n"
      ],
      "text/latex": [
       "\\begin{description*}\n",
       "\\item[名詞] '今日'\n",
       "\\item[名詞] '本'\n",
       "\\item[動詞] '読ん'\n",
       "\\end{description*}\n"
      ],
      "text/markdown": [
       "名詞\n",
       ":   '今日'名詞\n",
       ":   '本'動詞\n",
       ":   '読ん'\n",
       "\n"
      ],
      "text/plain": [
       "  名詞   名詞   動詞 \n",
       "\"今日\"   \"本\" \"読ん\" "
      ]
     },
     "metadata": {},
     "output_type": "display_data"
    }
   ],
   "source": [
    "# 結果から名詞と動詞を抜き出す\n",
    "\n",
    "test[names(test) %in% c('名詞', '動詞')]"
   ]
  },
  {
   "cell_type": "code",
   "execution_count": 30,
   "metadata": {},
   "outputs": [
    {
     "data": {
      "text/html": [
       "<ol class=list-inline>\n",
       "\t<li>TRUE</li>\n",
       "\t<li>FALSE</li>\n",
       "\t<li>TRUE</li>\n",
       "\t<li>FALSE</li>\n",
       "\t<li>TRUE</li>\n",
       "\t<li>FALSE</li>\n",
       "</ol>\n"
      ],
      "text/latex": [
       "\\begin{enumerate*}\n",
       "\\item TRUE\n",
       "\\item FALSE\n",
       "\\item TRUE\n",
       "\\item FALSE\n",
       "\\item TRUE\n",
       "\\item FALSE\n",
       "\\end{enumerate*}\n"
      ],
      "text/markdown": [
       "1. TRUE\n",
       "2. FALSE\n",
       "3. TRUE\n",
       "4. FALSE\n",
       "5. TRUE\n",
       "6. FALSE\n",
       "\n",
       "\n"
      ],
      "text/plain": [
       "[1]  TRUE FALSE  TRUE FALSE  TRUE FALSE"
      ]
     },
     "metadata": {},
     "output_type": "display_data"
    }
   ],
   "source": [
    "names(test) %in% c('名詞', '動詞')"
   ]
  },
  {
   "cell_type": "code",
   "execution_count": 31,
   "metadata": {
    "ExecuteTime": {
     "end_time": "2019-07-08T02:41:21.980577Z",
     "start_time": "2019-07-08T02:41:19.626Z"
    }
   },
   "outputs": [
    {
     "data": {
      "text/html": [
       "<dl class=dl-horizontal>\n",
       "\t<dt>名詞</dt>\n",
       "\t\t<dd>'今日'</dd>\n",
       "\t<dt>助詞</dt>\n",
       "\t\t<dd>'は'</dd>\n",
       "\t<dt>名詞</dt>\n",
       "\t\t<dd>'本'</dd>\n",
       "\t<dt>助詞</dt>\n",
       "\t\t<dd>'を'</dd>\n",
       "\t<dt>動詞</dt>\n",
       "\t\t<dd>'読む'</dd>\n",
       "\t<dt>助動詞</dt>\n",
       "\t\t<dd>'だ'</dd>\n",
       "</dl>\n"
      ],
      "text/latex": [
       "\\begin{description*}\n",
       "\\item[名詞] '今日'\n",
       "\\item[助詞] 'は'\n",
       "\\item[名詞] '本'\n",
       "\\item[助詞] 'を'\n",
       "\\item[動詞] '読む'\n",
       "\\item[助動詞] 'だ'\n",
       "\\end{description*}\n"
      ],
      "text/markdown": [
       "名詞\n",
       ":   '今日'助詞\n",
       ":   'は'名詞\n",
       ":   '本'助詞\n",
       ":   'を'動詞\n",
       ":   '読む'助動詞\n",
       ":   'だ'\n",
       "\n"
      ],
      "text/plain": [
       "  名詞   助詞   名詞   助詞   動詞 助動詞 \n",
       "\"今日\"   \"は\"   \"本\"   \"を\" \"読む\"   \"だ\" "
      ]
     },
     "metadata": {},
     "output_type": "display_data"
    }
   ],
   "source": [
    "# 第二引数に1を入力すると、動詞の原形になる\n",
    "\n",
    "RMeCabC('今日は本を読んだ', 1) %>% unlist()"
   ]
  },
  {
   "cell_type": "code",
   "execution_count": null,
   "metadata": {
    "ExecuteTime": {
     "end_time": "2019-07-08T02:41:22.109234Z",
     "start_time": "2019-07-08T02:41:19.660Z"
    }
   },
   "outputs": [],
   "source": []
  },
  {
   "cell_type": "markdown",
   "metadata": {},
   "source": [
    "## クリーニングの実際\n",
    "\n",
    "例文：\n",
    "\n",
    "「やまいり？やまはいって木を丸める？」\n",
    "\n",
    "**「切ってきて、丸めて、家の屋根にしげておくん。それはてんかごめんけどどこのやまいってきってきてもよいということになっちょった。」**\n"
   ]
  },
  {
   "cell_type": "code",
   "execution_count": 32,
   "metadata": {
    "ExecuteTime": {
     "end_time": "2019-07-08T02:41:22.156109Z",
     "start_time": "2019-07-08T02:41:19.851Z"
    }
   },
   "outputs": [],
   "source": [
    "text = '切ってきて、丸めて、家の屋根にしげておくん。それはてんかごめんけどどこのやまいってきってきてもよいということになっちょった。'"
   ]
  },
  {
   "cell_type": "code",
   "execution_count": 33,
   "metadata": {
    "ExecuteTime": {
     "end_time": "2019-07-08T02:41:22.261826Z",
     "start_time": "2019-07-08T02:41:19.868Z"
    }
   },
   "outputs": [
    {
     "data": {
      "text/html": [
       "<ol>\n",
       "\t<li><strong>動詞:</strong> '切っ'</li>\n",
       "\t<li><strong>助詞:</strong> 'て'</li>\n",
       "\t<li><strong>動詞:</strong> 'き'</li>\n",
       "\t<li><strong>助詞:</strong> 'て'</li>\n",
       "\t<li><strong>記号:</strong> '、'</li>\n",
       "\t<li><strong>動詞:</strong> '丸め'</li>\n",
       "\t<li><strong>助詞:</strong> 'て'</li>\n",
       "\t<li><strong>記号:</strong> '、'</li>\n",
       "\t<li><strong>名詞:</strong> '家'</li>\n",
       "\t<li><strong>助詞:</strong> 'の'</li>\n",
       "\t<li><strong>名詞:</strong> '屋根'</li>\n",
       "\t<li><strong>助詞:</strong> 'に'</li>\n",
       "\t<li><strong>形容詞:</strong> 'しげ'</li>\n",
       "\t<li><strong>助詞:</strong> 'て'</li>\n",
       "\t<li><strong>動詞:</strong> 'おく'</li>\n",
       "\t<li><strong>助動詞:</strong> 'ん'</li>\n",
       "\t<li><strong>記号:</strong> '。'</li>\n",
       "\t<li><strong>名詞:</strong> 'それ'</li>\n",
       "\t<li><strong>助詞:</strong> 'は'</li>\n",
       "\t<li><strong>名詞:</strong> 'てんか'</li>\n",
       "\t<li><strong>感動詞:</strong> 'ごめん'</li>\n",
       "\t<li><strong>接続詞:</strong> 'けど'</li>\n",
       "\t<li><strong>名詞:</strong> 'どこ'</li>\n",
       "\t<li><strong>助詞:</strong> 'の'</li>\n",
       "\t<li><strong>助詞:</strong> 'や'</li>\n",
       "\t<li><strong>動詞:</strong> 'まいっ'</li>\n",
       "\t<li><strong>助詞:</strong> 'て'</li>\n",
       "\t<li><strong>動詞:</strong> 'きっ'</li>\n",
       "\t<li><strong>助詞:</strong> 'て'</li>\n",
       "\t<li><strong>動詞:</strong> 'き'</li>\n",
       "\t<li><strong>助詞:</strong> 'て'</li>\n",
       "\t<li><strong>助詞:</strong> 'も'</li>\n",
       "\t<li><strong>形容詞:</strong> 'よい'</li>\n",
       "\t<li><strong>助詞:</strong> 'という'</li>\n",
       "\t<li><strong>名詞:</strong> 'こと'</li>\n",
       "\t<li><strong>助詞:</strong> 'に'</li>\n",
       "\t<li><strong>動詞:</strong> 'なっ'</li>\n",
       "\t<li><strong>名詞:</strong> 'ちょ'</li>\n",
       "\t<li><strong>動詞:</strong> 'っ'</li>\n",
       "\t<li><strong>助動詞:</strong> 'た'</li>\n",
       "\t<li><strong>記号:</strong> '。'</li>\n",
       "</ol>\n"
      ],
      "text/latex": [
       "\\begin{enumerate}\n",
       "\\item \\textbf{動詞:} '切っ'\n",
       "\\item \\textbf{助詞:} 'て'\n",
       "\\item \\textbf{動詞:} 'き'\n",
       "\\item \\textbf{助詞:} 'て'\n",
       "\\item \\textbf{記号:} '、'\n",
       "\\item \\textbf{動詞:} '丸め'\n",
       "\\item \\textbf{助詞:} 'て'\n",
       "\\item \\textbf{記号:} '、'\n",
       "\\item \\textbf{名詞:} '家'\n",
       "\\item \\textbf{助詞:} 'の'\n",
       "\\item \\textbf{名詞:} '屋根'\n",
       "\\item \\textbf{助詞:} 'に'\n",
       "\\item \\textbf{形容詞:} 'しげ'\n",
       "\\item \\textbf{助詞:} 'て'\n",
       "\\item \\textbf{動詞:} 'おく'\n",
       "\\item \\textbf{助動詞:} 'ん'\n",
       "\\item \\textbf{記号:} '。'\n",
       "\\item \\textbf{名詞:} 'それ'\n",
       "\\item \\textbf{助詞:} 'は'\n",
       "\\item \\textbf{名詞:} 'てんか'\n",
       "\\item \\textbf{感動詞:} 'ごめん'\n",
       "\\item \\textbf{接続詞:} 'けど'\n",
       "\\item \\textbf{名詞:} 'どこ'\n",
       "\\item \\textbf{助詞:} 'の'\n",
       "\\item \\textbf{助詞:} 'や'\n",
       "\\item \\textbf{動詞:} 'まいっ'\n",
       "\\item \\textbf{助詞:} 'て'\n",
       "\\item \\textbf{動詞:} 'きっ'\n",
       "\\item \\textbf{助詞:} 'て'\n",
       "\\item \\textbf{動詞:} 'き'\n",
       "\\item \\textbf{助詞:} 'て'\n",
       "\\item \\textbf{助詞:} 'も'\n",
       "\\item \\textbf{形容詞:} 'よい'\n",
       "\\item \\textbf{助詞:} 'という'\n",
       "\\item \\textbf{名詞:} 'こと'\n",
       "\\item \\textbf{助詞:} 'に'\n",
       "\\item \\textbf{動詞:} 'なっ'\n",
       "\\item \\textbf{名詞:} 'ちょ'\n",
       "\\item \\textbf{動詞:} 'っ'\n",
       "\\item \\textbf{助動詞:} 'た'\n",
       "\\item \\textbf{記号:} '。'\n",
       "\\end{enumerate}\n"
      ],
      "text/markdown": [
       "1. **動詞:** '切っ'\n",
       "2. **助詞:** 'て'\n",
       "3. **動詞:** 'き'\n",
       "4. **助詞:** 'て'\n",
       "5. **記号:** '、'\n",
       "6. **動詞:** '丸め'\n",
       "7. **助詞:** 'て'\n",
       "8. **記号:** '、'\n",
       "9. **名詞:** '家'\n",
       "10. **助詞:** 'の'\n",
       "11. **名詞:** '屋根'\n",
       "12. **助詞:** 'に'\n",
       "13. **形容詞:** 'しげ'\n",
       "14. **助詞:** 'て'\n",
       "15. **動詞:** 'おく'\n",
       "16. **助動詞:** 'ん'\n",
       "17. **記号:** '。'\n",
       "18. **名詞:** 'それ'\n",
       "19. **助詞:** 'は'\n",
       "20. **名詞:** 'てんか'\n",
       "21. **感動詞:** 'ごめん'\n",
       "22. **接続詞:** 'けど'\n",
       "23. **名詞:** 'どこ'\n",
       "24. **助詞:** 'の'\n",
       "25. **助詞:** 'や'\n",
       "26. **動詞:** 'まいっ'\n",
       "27. **助詞:** 'て'\n",
       "28. **動詞:** 'きっ'\n",
       "29. **助詞:** 'て'\n",
       "30. **動詞:** 'き'\n",
       "31. **助詞:** 'て'\n",
       "32. **助詞:** 'も'\n",
       "33. **形容詞:** 'よい'\n",
       "34. **助詞:** 'という'\n",
       "35. **名詞:** 'こと'\n",
       "36. **助詞:** 'に'\n",
       "37. **動詞:** 'なっ'\n",
       "38. **名詞:** 'ちょ'\n",
       "39. **動詞:** 'っ'\n",
       "40. **助動詞:** 'た'\n",
       "41. **記号:** '。'\n",
       "\n",
       "\n"
      ],
      "text/plain": [
       "[[1]]\n",
       "  動詞 \n",
       "\"切っ\" \n",
       "\n",
       "[[2]]\n",
       "助詞 \n",
       "\"て\" \n",
       "\n",
       "[[3]]\n",
       "動詞 \n",
       "\"き\" \n",
       "\n",
       "[[4]]\n",
       "助詞 \n",
       "\"て\" \n",
       "\n",
       "[[5]]\n",
       "記号 \n",
       "\"、\" \n",
       "\n",
       "[[6]]\n",
       "  動詞 \n",
       "\"丸め\" \n",
       "\n",
       "[[7]]\n",
       "助詞 \n",
       "\"て\" \n",
       "\n",
       "[[8]]\n",
       "記号 \n",
       "\"、\" \n",
       "\n",
       "[[9]]\n",
       "名詞 \n",
       "\"家\" \n",
       "\n",
       "[[10]]\n",
       "助詞 \n",
       "\"の\" \n",
       "\n",
       "[[11]]\n",
       "  名詞 \n",
       "\"屋根\" \n",
       "\n",
       "[[12]]\n",
       "助詞 \n",
       "\"に\" \n",
       "\n",
       "[[13]]\n",
       "形容詞 \n",
       "\"しげ\" \n",
       "\n",
       "[[14]]\n",
       "助詞 \n",
       "\"て\" \n",
       "\n",
       "[[15]]\n",
       "  動詞 \n",
       "\"おく\" \n",
       "\n",
       "[[16]]\n",
       "助動詞 \n",
       "  \"ん\" \n",
       "\n",
       "[[17]]\n",
       "記号 \n",
       "\"。\" \n",
       "\n",
       "[[18]]\n",
       "  名詞 \n",
       "\"それ\" \n",
       "\n",
       "[[19]]\n",
       "助詞 \n",
       "\"は\" \n",
       "\n",
       "[[20]]\n",
       "    名詞 \n",
       "\"てんか\" \n",
       "\n",
       "[[21]]\n",
       "  感動詞 \n",
       "\"ごめん\" \n",
       "\n",
       "[[22]]\n",
       "接続詞 \n",
       "\"けど\" \n",
       "\n",
       "[[23]]\n",
       "  名詞 \n",
       "\"どこ\" \n",
       "\n",
       "[[24]]\n",
       "助詞 \n",
       "\"の\" \n",
       "\n",
       "[[25]]\n",
       "助詞 \n",
       "\"や\" \n",
       "\n",
       "[[26]]\n",
       "    動詞 \n",
       "\"まいっ\" \n",
       "\n",
       "[[27]]\n",
       "助詞 \n",
       "\"て\" \n",
       "\n",
       "[[28]]\n",
       "  動詞 \n",
       "\"きっ\" \n",
       "\n",
       "[[29]]\n",
       "助詞 \n",
       "\"て\" \n",
       "\n",
       "[[30]]\n",
       "動詞 \n",
       "\"き\" \n",
       "\n",
       "[[31]]\n",
       "助詞 \n",
       "\"て\" \n",
       "\n",
       "[[32]]\n",
       "助詞 \n",
       "\"も\" \n",
       "\n",
       "[[33]]\n",
       "形容詞 \n",
       "\"よい\" \n",
       "\n",
       "[[34]]\n",
       "    助詞 \n",
       "\"という\" \n",
       "\n",
       "[[35]]\n",
       "  名詞 \n",
       "\"こと\" \n",
       "\n",
       "[[36]]\n",
       "助詞 \n",
       "\"に\" \n",
       "\n",
       "[[37]]\n",
       "  動詞 \n",
       "\"なっ\" \n",
       "\n",
       "[[38]]\n",
       "  名詞 \n",
       "\"ちょ\" \n",
       "\n",
       "[[39]]\n",
       "動詞 \n",
       "\"っ\" \n",
       "\n",
       "[[40]]\n",
       "助動詞 \n",
       "  \"た\" \n",
       "\n",
       "[[41]]\n",
       "記号 \n",
       "\"。\" \n"
      ]
     },
     "metadata": {},
     "output_type": "display_data"
    }
   ],
   "source": [
    "RMeCabC(text)"
   ]
  },
  {
   "cell_type": "markdown",
   "metadata": {},
   "source": [
    "表現を変える\n",
    "\n",
    "'切ってきて、丸めて、家の屋根にしげておくん。それはてんかごめんけどどこのやまいってきってきてもよいということになっちょった。'\n",
    "\n",
    "'切ってきて、丸めて、家の屋根に す げておくん。それは 天下御免 けどどこの山 に行って切ってきてもよいということになっていた。'"
   ]
  },
  {
   "cell_type": "code",
   "execution_count": 34,
   "metadata": {
    "ExecuteTime": {
     "end_time": "2019-07-08T02:41:22.399458Z",
     "start_time": "2019-07-08T02:41:20.034Z"
    }
   },
   "outputs": [],
   "source": [
    "text = '切ってきて、丸めて、家の屋根にすげておくん。それは天下御免でどこの山に行って切ってきてもよいということになっていた。'"
   ]
  },
  {
   "cell_type": "code",
   "execution_count": 35,
   "metadata": {
    "ExecuteTime": {
     "end_time": "2019-07-08T02:41:22.491213Z",
     "start_time": "2019-07-08T02:41:20.041Z"
    }
   },
   "outputs": [
    {
     "data": {
      "text/html": [
       "<ol>\n",
       "\t<li><strong>動詞:</strong> '切っ'</li>\n",
       "\t<li><strong>助詞:</strong> 'て'</li>\n",
       "\t<li><strong>動詞:</strong> 'き'</li>\n",
       "\t<li><strong>助詞:</strong> 'て'</li>\n",
       "\t<li><strong>記号:</strong> '、'</li>\n",
       "\t<li><strong>動詞:</strong> '丸め'</li>\n",
       "\t<li><strong>助詞:</strong> 'て'</li>\n",
       "\t<li><strong>記号:</strong> '、'</li>\n",
       "\t<li><strong>名詞:</strong> '家'</li>\n",
       "\t<li><strong>助詞:</strong> 'の'</li>\n",
       "\t<li><strong>名詞:</strong> '屋根'</li>\n",
       "\t<li><strong>助詞:</strong> 'に'</li>\n",
       "\t<li><strong>動詞:</strong> 'すげ'</li>\n",
       "\t<li><strong>助詞:</strong> 'て'</li>\n",
       "\t<li><strong>動詞:</strong> 'おく'</li>\n",
       "\t<li><strong>助動詞:</strong> 'ん'</li>\n",
       "\t<li><strong>記号:</strong> '。'</li>\n",
       "\t<li><strong>名詞:</strong> 'それ'</li>\n",
       "\t<li><strong>助詞:</strong> 'は'</li>\n",
       "\t<li><strong>名詞:</strong> '天下'</li>\n",
       "\t<li><strong>名詞:</strong> '御免'</li>\n",
       "\t<li><strong>助詞:</strong> 'で'</li>\n",
       "\t<li><strong>名詞:</strong> 'どこ'</li>\n",
       "\t<li><strong>助詞:</strong> 'の'</li>\n",
       "\t<li><strong>名詞:</strong> '山'</li>\n",
       "\t<li><strong>助詞:</strong> 'に'</li>\n",
       "\t<li><strong>動詞:</strong> '行っ'</li>\n",
       "\t<li><strong>助詞:</strong> 'て'</li>\n",
       "\t<li><strong>動詞:</strong> '切っ'</li>\n",
       "\t<li><strong>助詞:</strong> 'て'</li>\n",
       "\t<li><strong>動詞:</strong> 'き'</li>\n",
       "\t<li><strong>助詞:</strong> 'て'</li>\n",
       "\t<li><strong>助詞:</strong> 'も'</li>\n",
       "\t<li><strong>形容詞:</strong> 'よい'</li>\n",
       "\t<li><strong>助詞:</strong> 'という'</li>\n",
       "\t<li><strong>名詞:</strong> 'こと'</li>\n",
       "\t<li><strong>助詞:</strong> 'に'</li>\n",
       "\t<li><strong>動詞:</strong> 'なっ'</li>\n",
       "\t<li><strong>助詞:</strong> 'て'</li>\n",
       "\t<li><strong>動詞:</strong> 'い'</li>\n",
       "\t<li><strong>助動詞:</strong> 'た'</li>\n",
       "\t<li><strong>記号:</strong> '。'</li>\n",
       "</ol>\n"
      ],
      "text/latex": [
       "\\begin{enumerate}\n",
       "\\item \\textbf{動詞:} '切っ'\n",
       "\\item \\textbf{助詞:} 'て'\n",
       "\\item \\textbf{動詞:} 'き'\n",
       "\\item \\textbf{助詞:} 'て'\n",
       "\\item \\textbf{記号:} '、'\n",
       "\\item \\textbf{動詞:} '丸め'\n",
       "\\item \\textbf{助詞:} 'て'\n",
       "\\item \\textbf{記号:} '、'\n",
       "\\item \\textbf{名詞:} '家'\n",
       "\\item \\textbf{助詞:} 'の'\n",
       "\\item \\textbf{名詞:} '屋根'\n",
       "\\item \\textbf{助詞:} 'に'\n",
       "\\item \\textbf{動詞:} 'すげ'\n",
       "\\item \\textbf{助詞:} 'て'\n",
       "\\item \\textbf{動詞:} 'おく'\n",
       "\\item \\textbf{助動詞:} 'ん'\n",
       "\\item \\textbf{記号:} '。'\n",
       "\\item \\textbf{名詞:} 'それ'\n",
       "\\item \\textbf{助詞:} 'は'\n",
       "\\item \\textbf{名詞:} '天下'\n",
       "\\item \\textbf{名詞:} '御免'\n",
       "\\item \\textbf{助詞:} 'で'\n",
       "\\item \\textbf{名詞:} 'どこ'\n",
       "\\item \\textbf{助詞:} 'の'\n",
       "\\item \\textbf{名詞:} '山'\n",
       "\\item \\textbf{助詞:} 'に'\n",
       "\\item \\textbf{動詞:} '行っ'\n",
       "\\item \\textbf{助詞:} 'て'\n",
       "\\item \\textbf{動詞:} '切っ'\n",
       "\\item \\textbf{助詞:} 'て'\n",
       "\\item \\textbf{動詞:} 'き'\n",
       "\\item \\textbf{助詞:} 'て'\n",
       "\\item \\textbf{助詞:} 'も'\n",
       "\\item \\textbf{形容詞:} 'よい'\n",
       "\\item \\textbf{助詞:} 'という'\n",
       "\\item \\textbf{名詞:} 'こと'\n",
       "\\item \\textbf{助詞:} 'に'\n",
       "\\item \\textbf{動詞:} 'なっ'\n",
       "\\item \\textbf{助詞:} 'て'\n",
       "\\item \\textbf{動詞:} 'い'\n",
       "\\item \\textbf{助動詞:} 'た'\n",
       "\\item \\textbf{記号:} '。'\n",
       "\\end{enumerate}\n"
      ],
      "text/markdown": [
       "1. **動詞:** '切っ'\n",
       "2. **助詞:** 'て'\n",
       "3. **動詞:** 'き'\n",
       "4. **助詞:** 'て'\n",
       "5. **記号:** '、'\n",
       "6. **動詞:** '丸め'\n",
       "7. **助詞:** 'て'\n",
       "8. **記号:** '、'\n",
       "9. **名詞:** '家'\n",
       "10. **助詞:** 'の'\n",
       "11. **名詞:** '屋根'\n",
       "12. **助詞:** 'に'\n",
       "13. **動詞:** 'すげ'\n",
       "14. **助詞:** 'て'\n",
       "15. **動詞:** 'おく'\n",
       "16. **助動詞:** 'ん'\n",
       "17. **記号:** '。'\n",
       "18. **名詞:** 'それ'\n",
       "19. **助詞:** 'は'\n",
       "20. **名詞:** '天下'\n",
       "21. **名詞:** '御免'\n",
       "22. **助詞:** 'で'\n",
       "23. **名詞:** 'どこ'\n",
       "24. **助詞:** 'の'\n",
       "25. **名詞:** '山'\n",
       "26. **助詞:** 'に'\n",
       "27. **動詞:** '行っ'\n",
       "28. **助詞:** 'て'\n",
       "29. **動詞:** '切っ'\n",
       "30. **助詞:** 'て'\n",
       "31. **動詞:** 'き'\n",
       "32. **助詞:** 'て'\n",
       "33. **助詞:** 'も'\n",
       "34. **形容詞:** 'よい'\n",
       "35. **助詞:** 'という'\n",
       "36. **名詞:** 'こと'\n",
       "37. **助詞:** 'に'\n",
       "38. **動詞:** 'なっ'\n",
       "39. **助詞:** 'て'\n",
       "40. **動詞:** 'い'\n",
       "41. **助動詞:** 'た'\n",
       "42. **記号:** '。'\n",
       "\n",
       "\n"
      ],
      "text/plain": [
       "[[1]]\n",
       "  動詞 \n",
       "\"切っ\" \n",
       "\n",
       "[[2]]\n",
       "助詞 \n",
       "\"て\" \n",
       "\n",
       "[[3]]\n",
       "動詞 \n",
       "\"き\" \n",
       "\n",
       "[[4]]\n",
       "助詞 \n",
       "\"て\" \n",
       "\n",
       "[[5]]\n",
       "記号 \n",
       "\"、\" \n",
       "\n",
       "[[6]]\n",
       "  動詞 \n",
       "\"丸め\" \n",
       "\n",
       "[[7]]\n",
       "助詞 \n",
       "\"て\" \n",
       "\n",
       "[[8]]\n",
       "記号 \n",
       "\"、\" \n",
       "\n",
       "[[9]]\n",
       "名詞 \n",
       "\"家\" \n",
       "\n",
       "[[10]]\n",
       "助詞 \n",
       "\"の\" \n",
       "\n",
       "[[11]]\n",
       "  名詞 \n",
       "\"屋根\" \n",
       "\n",
       "[[12]]\n",
       "助詞 \n",
       "\"に\" \n",
       "\n",
       "[[13]]\n",
       "  動詞 \n",
       "\"すげ\" \n",
       "\n",
       "[[14]]\n",
       "助詞 \n",
       "\"て\" \n",
       "\n",
       "[[15]]\n",
       "  動詞 \n",
       "\"おく\" \n",
       "\n",
       "[[16]]\n",
       "助動詞 \n",
       "  \"ん\" \n",
       "\n",
       "[[17]]\n",
       "記号 \n",
       "\"。\" \n",
       "\n",
       "[[18]]\n",
       "  名詞 \n",
       "\"それ\" \n",
       "\n",
       "[[19]]\n",
       "助詞 \n",
       "\"は\" \n",
       "\n",
       "[[20]]\n",
       "  名詞 \n",
       "\"天下\" \n",
       "\n",
       "[[21]]\n",
       "  名詞 \n",
       "\"御免\" \n",
       "\n",
       "[[22]]\n",
       "助詞 \n",
       "\"で\" \n",
       "\n",
       "[[23]]\n",
       "  名詞 \n",
       "\"どこ\" \n",
       "\n",
       "[[24]]\n",
       "助詞 \n",
       "\"の\" \n",
       "\n",
       "[[25]]\n",
       "名詞 \n",
       "\"山\" \n",
       "\n",
       "[[26]]\n",
       "助詞 \n",
       "\"に\" \n",
       "\n",
       "[[27]]\n",
       "  動詞 \n",
       "\"行っ\" \n",
       "\n",
       "[[28]]\n",
       "助詞 \n",
       "\"て\" \n",
       "\n",
       "[[29]]\n",
       "  動詞 \n",
       "\"切っ\" \n",
       "\n",
       "[[30]]\n",
       "助詞 \n",
       "\"て\" \n",
       "\n",
       "[[31]]\n",
       "動詞 \n",
       "\"き\" \n",
       "\n",
       "[[32]]\n",
       "助詞 \n",
       "\"て\" \n",
       "\n",
       "[[33]]\n",
       "助詞 \n",
       "\"も\" \n",
       "\n",
       "[[34]]\n",
       "形容詞 \n",
       "\"よい\" \n",
       "\n",
       "[[35]]\n",
       "    助詞 \n",
       "\"という\" \n",
       "\n",
       "[[36]]\n",
       "  名詞 \n",
       "\"こと\" \n",
       "\n",
       "[[37]]\n",
       "助詞 \n",
       "\"に\" \n",
       "\n",
       "[[38]]\n",
       "  動詞 \n",
       "\"なっ\" \n",
       "\n",
       "[[39]]\n",
       "助詞 \n",
       "\"て\" \n",
       "\n",
       "[[40]]\n",
       "動詞 \n",
       "\"い\" \n",
       "\n",
       "[[41]]\n",
       "助動詞 \n",
       "  \"た\" \n",
       "\n",
       "[[42]]\n",
       "記号 \n",
       "\"。\" \n"
      ]
     },
     "metadata": {},
     "output_type": "display_data"
    }
   ],
   "source": [
    "RMeCabC(text)"
   ]
  },
  {
   "cell_type": "code",
   "execution_count": 36,
   "metadata": {},
   "outputs": [
    {
     "data": {
      "text/html": [
       "<ol>\n",
       "\t<li><strong>副詞:</strong> 'まあ'</li>\n",
       "\t<li><strong>連体詞:</strong> 'そういう'</li>\n",
       "\t<li><strong>名詞:</strong> 'こと'</li>\n",
       "\t<li><strong>助動詞:</strong> 'で'</li>\n",
       "\t<li><strong>記号:</strong> '、'</li>\n",
       "\t<li><strong>名詞:</strong> '余分'</li>\n",
       "\t<li><strong>助動詞:</strong> 'な'</li>\n",
       "\t<li><strong>名詞:</strong> '話'</li>\n",
       "\t<li><strong>助詞:</strong> 'は'</li>\n",
       "\t<li><strong>形容詞:</strong> 'いい'</li>\n",
       "\t<li><strong>助詞:</strong> 'け'</li>\n",
       "\t<li><strong>助詞:</strong> 'ん'</li>\n",
       "\t<li><strong>記号:</strong> '。'</li>\n",
       "</ol>\n"
      ],
      "text/latex": [
       "\\begin{enumerate}\n",
       "\\item \\textbf{副詞:} 'まあ'\n",
       "\\item \\textbf{連体詞:} 'そういう'\n",
       "\\item \\textbf{名詞:} 'こと'\n",
       "\\item \\textbf{助動詞:} 'で'\n",
       "\\item \\textbf{記号:} '、'\n",
       "\\item \\textbf{名詞:} '余分'\n",
       "\\item \\textbf{助動詞:} 'な'\n",
       "\\item \\textbf{名詞:} '話'\n",
       "\\item \\textbf{助詞:} 'は'\n",
       "\\item \\textbf{形容詞:} 'いい'\n",
       "\\item \\textbf{助詞:} 'け'\n",
       "\\item \\textbf{助詞:} 'ん'\n",
       "\\item \\textbf{記号:} '。'\n",
       "\\end{enumerate}\n"
      ],
      "text/markdown": [
       "1. **副詞:** 'まあ'\n",
       "2. **連体詞:** 'そういう'\n",
       "3. **名詞:** 'こと'\n",
       "4. **助動詞:** 'で'\n",
       "5. **記号:** '、'\n",
       "6. **名詞:** '余分'\n",
       "7. **助動詞:** 'な'\n",
       "8. **名詞:** '話'\n",
       "9. **助詞:** 'は'\n",
       "10. **形容詞:** 'いい'\n",
       "11. **助詞:** 'け'\n",
       "12. **助詞:** 'ん'\n",
       "13. **記号:** '。'\n",
       "\n",
       "\n"
      ],
      "text/plain": [
       "[[1]]\n",
       "  副詞 \n",
       "\"まあ\" \n",
       "\n",
       "[[2]]\n",
       "    連体詞 \n",
       "\"そういう\" \n",
       "\n",
       "[[3]]\n",
       "  名詞 \n",
       "\"こと\" \n",
       "\n",
       "[[4]]\n",
       "助動詞 \n",
       "  \"で\" \n",
       "\n",
       "[[5]]\n",
       "記号 \n",
       "\"、\" \n",
       "\n",
       "[[6]]\n",
       "  名詞 \n",
       "\"余分\" \n",
       "\n",
       "[[7]]\n",
       "助動詞 \n",
       "  \"な\" \n",
       "\n",
       "[[8]]\n",
       "名詞 \n",
       "\"話\" \n",
       "\n",
       "[[9]]\n",
       "助詞 \n",
       "\"は\" \n",
       "\n",
       "[[10]]\n",
       "形容詞 \n",
       "\"いい\" \n",
       "\n",
       "[[11]]\n",
       "助詞 \n",
       "\"け\" \n",
       "\n",
       "[[12]]\n",
       "助詞 \n",
       "\"ん\" \n",
       "\n",
       "[[13]]\n",
       "記号 \n",
       "\"。\" \n"
      ]
     },
     "metadata": {},
     "output_type": "display_data"
    }
   ],
   "source": [
    "# 辞書登録前\n",
    "RMeCabC('まあそういうことで、余分な話はいいけん。')"
   ]
  },
  {
   "cell_type": "code",
   "execution_count": 37,
   "metadata": {},
   "outputs": [
    {
     "data": {
      "text/html": [
       "'C:/Users/satoc/projects/lecture2019'"
      ],
      "text/latex": [
       "'C:/Users/satoc/projects/lecture2019'"
      ],
      "text/markdown": [
       "'C:/Users/satoc/projects/lecture2019'"
      ],
      "text/plain": [
       "[1] \"C:/Users/satoc/projects/lecture2019\""
      ]
     },
     "metadata": {},
     "output_type": "display_data"
    }
   ],
   "source": [
    "getwd()"
   ]
  },
  {
   "cell_type": "code",
   "execution_count": 38,
   "metadata": {},
   "outputs": [
    {
     "data": {
      "text/html": [
       "<ol>\n",
       "\t<li><strong>副詞:</strong> 'まあ'</li>\n",
       "\t<li><strong>連体詞:</strong> 'そういう'</li>\n",
       "\t<li><strong>名詞:</strong> 'こと'</li>\n",
       "\t<li><strong>助動詞:</strong> 'で'</li>\n",
       "\t<li><strong>記号:</strong> '、'</li>\n",
       "\t<li><strong>名詞:</strong> '余分'</li>\n",
       "\t<li><strong>助動詞:</strong> 'な'</li>\n",
       "\t<li><strong>名詞:</strong> '話'</li>\n",
       "\t<li><strong>助詞:</strong> 'は'</li>\n",
       "\t<li><strong>形容詞:</strong> 'いい'</li>\n",
       "\t<li><strong>助詞:</strong> 'けん'</li>\n",
       "\t<li><strong>記号:</strong> '。'</li>\n",
       "</ol>\n"
      ],
      "text/latex": [
       "\\begin{enumerate}\n",
       "\\item \\textbf{副詞:} 'まあ'\n",
       "\\item \\textbf{連体詞:} 'そういう'\n",
       "\\item \\textbf{名詞:} 'こと'\n",
       "\\item \\textbf{助動詞:} 'で'\n",
       "\\item \\textbf{記号:} '、'\n",
       "\\item \\textbf{名詞:} '余分'\n",
       "\\item \\textbf{助動詞:} 'な'\n",
       "\\item \\textbf{名詞:} '話'\n",
       "\\item \\textbf{助詞:} 'は'\n",
       "\\item \\textbf{形容詞:} 'いい'\n",
       "\\item \\textbf{助詞:} 'けん'\n",
       "\\item \\textbf{記号:} '。'\n",
       "\\end{enumerate}\n"
      ],
      "text/markdown": [
       "1. **副詞:** 'まあ'\n",
       "2. **連体詞:** 'そういう'\n",
       "3. **名詞:** 'こと'\n",
       "4. **助動詞:** 'で'\n",
       "5. **記号:** '、'\n",
       "6. **名詞:** '余分'\n",
       "7. **助動詞:** 'な'\n",
       "8. **名詞:** '話'\n",
       "9. **助詞:** 'は'\n",
       "10. **形容詞:** 'いい'\n",
       "11. **助詞:** 'けん'\n",
       "12. **記号:** '。'\n",
       "\n",
       "\n"
      ],
      "text/plain": [
       "[[1]]\n",
       "  副詞 \n",
       "\"まあ\" \n",
       "\n",
       "[[2]]\n",
       "    連体詞 \n",
       "\"そういう\" \n",
       "\n",
       "[[3]]\n",
       "  名詞 \n",
       "\"こと\" \n",
       "\n",
       "[[4]]\n",
       "助動詞 \n",
       "  \"で\" \n",
       "\n",
       "[[5]]\n",
       "記号 \n",
       "\"、\" \n",
       "\n",
       "[[6]]\n",
       "  名詞 \n",
       "\"余分\" \n",
       "\n",
       "[[7]]\n",
       "助動詞 \n",
       "  \"な\" \n",
       "\n",
       "[[8]]\n",
       "名詞 \n",
       "\"話\" \n",
       "\n",
       "[[9]]\n",
       "助詞 \n",
       "\"は\" \n",
       "\n",
       "[[10]]\n",
       "形容詞 \n",
       "\"いい\" \n",
       "\n",
       "[[11]]\n",
       "  助詞 \n",
       "\"けん\" \n",
       "\n",
       "[[12]]\n",
       "記号 \n",
       "\"。\" \n"
      ]
     },
     "metadata": {},
     "output_type": "display_data"
    }
   ],
   "source": [
    "# 辞書登録後\n",
    "RMeCabC('まあそういうことで、余分な話はいいけん。', dic='dict/example.dic')"
   ]
  },
  {
   "cell_type": "code",
   "execution_count": 39,
   "metadata": {},
   "outputs": [
    {
     "data": {
      "text/html": [
       "<ol>\n",
       "\t<li><strong>名詞:</strong> 'そこ'</li>\n",
       "\t<li><strong>助詞:</strong> 'に'</li>\n",
       "\t<li><strong>動詞:</strong> '来'</li>\n",
       "\t<li><strong>名詞:</strong> 'ちょ'</li>\n",
       "\t<li><strong>助動詞:</strong> 'る'</li>\n",
       "\t<li><strong>記号:</strong> '。'</li>\n",
       "</ol>\n"
      ],
      "text/latex": [
       "\\begin{enumerate}\n",
       "\\item \\textbf{名詞:} 'そこ'\n",
       "\\item \\textbf{助詞:} 'に'\n",
       "\\item \\textbf{動詞:} '来'\n",
       "\\item \\textbf{名詞:} 'ちょ'\n",
       "\\item \\textbf{助動詞:} 'る'\n",
       "\\item \\textbf{記号:} '。'\n",
       "\\end{enumerate}\n"
      ],
      "text/markdown": [
       "1. **名詞:** 'そこ'\n",
       "2. **助詞:** 'に'\n",
       "3. **動詞:** '来'\n",
       "4. **名詞:** 'ちょ'\n",
       "5. **助動詞:** 'る'\n",
       "6. **記号:** '。'\n",
       "\n",
       "\n"
      ],
      "text/plain": [
       "[[1]]\n",
       "  名詞 \n",
       "\"そこ\" \n",
       "\n",
       "[[2]]\n",
       "助詞 \n",
       "\"に\" \n",
       "\n",
       "[[3]]\n",
       "動詞 \n",
       "\"来\" \n",
       "\n",
       "[[4]]\n",
       "  名詞 \n",
       "\"ちょ\" \n",
       "\n",
       "[[5]]\n",
       "助動詞 \n",
       "  \"る\" \n",
       "\n",
       "[[6]]\n",
       "記号 \n",
       "\"。\" \n"
      ]
     },
     "metadata": {},
     "output_type": "display_data"
    }
   ],
   "source": [
    "# 辞書登録前\n",
    "RMeCabC('そこに来ちょる。')"
   ]
  },
  {
   "cell_type": "code",
   "execution_count": 40,
   "metadata": {},
   "outputs": [
    {
     "data": {
      "text/html": [
       "<ol>\n",
       "\t<li><strong>名詞:</strong> 'そこ'</li>\n",
       "\t<li><strong>助詞:</strong> 'に'</li>\n",
       "\t<li><strong>動詞:</strong> '来'</li>\n",
       "\t<li><strong>動詞:</strong> 'ちょる'</li>\n",
       "\t<li><strong>記号:</strong> '。'</li>\n",
       "</ol>\n"
      ],
      "text/latex": [
       "\\begin{enumerate}\n",
       "\\item \\textbf{名詞:} 'そこ'\n",
       "\\item \\textbf{助詞:} 'に'\n",
       "\\item \\textbf{動詞:} '来'\n",
       "\\item \\textbf{動詞:} 'ちょる'\n",
       "\\item \\textbf{記号:} '。'\n",
       "\\end{enumerate}\n"
      ],
      "text/markdown": [
       "1. **名詞:** 'そこ'\n",
       "2. **助詞:** 'に'\n",
       "3. **動詞:** '来'\n",
       "4. **動詞:** 'ちょる'\n",
       "5. **記号:** '。'\n",
       "\n",
       "\n"
      ],
      "text/plain": [
       "[[1]]\n",
       "  名詞 \n",
       "\"そこ\" \n",
       "\n",
       "[[2]]\n",
       "助詞 \n",
       "\"に\" \n",
       "\n",
       "[[3]]\n",
       "動詞 \n",
       "\"来\" \n",
       "\n",
       "[[4]]\n",
       "    動詞 \n",
       "\"ちょる\" \n",
       "\n",
       "[[5]]\n",
       "記号 \n",
       "\"。\" \n"
      ]
     },
     "metadata": {},
     "output_type": "display_data"
    }
   ],
   "source": [
    "# 辞書登録後\n",
    "RMeCabC('そこに来ちょる。', dic='dict/example.dic')\n"
   ]
  },
  {
   "cell_type": "code",
   "execution_count": 41,
   "metadata": {},
   "outputs": [
    {
     "data": {
      "text/html": [
       "<ol>\n",
       "\t<li><strong>名詞:</strong> 'そこ'</li>\n",
       "\t<li><strong>助詞:</strong> 'に'</li>\n",
       "\t<li><strong>動詞:</strong> '来'</li>\n",
       "\t<li><strong>名詞:</strong> 'ちょ'</li>\n",
       "\t<li><strong>動詞:</strong> 'っ'</li>\n",
       "\t<li><strong>助動詞:</strong> 'た'</li>\n",
       "\t<li><strong>記号:</strong> '。'</li>\n",
       "</ol>\n"
      ],
      "text/latex": [
       "\\begin{enumerate}\n",
       "\\item \\textbf{名詞:} 'そこ'\n",
       "\\item \\textbf{助詞:} 'に'\n",
       "\\item \\textbf{動詞:} '来'\n",
       "\\item \\textbf{名詞:} 'ちょ'\n",
       "\\item \\textbf{動詞:} 'っ'\n",
       "\\item \\textbf{助動詞:} 'た'\n",
       "\\item \\textbf{記号:} '。'\n",
       "\\end{enumerate}\n"
      ],
      "text/markdown": [
       "1. **名詞:** 'そこ'\n",
       "2. **助詞:** 'に'\n",
       "3. **動詞:** '来'\n",
       "4. **名詞:** 'ちょ'\n",
       "5. **動詞:** 'っ'\n",
       "6. **助動詞:** 'た'\n",
       "7. **記号:** '。'\n",
       "\n",
       "\n"
      ],
      "text/plain": [
       "[[1]]\n",
       "  名詞 \n",
       "\"そこ\" \n",
       "\n",
       "[[2]]\n",
       "助詞 \n",
       "\"に\" \n",
       "\n",
       "[[3]]\n",
       "動詞 \n",
       "\"来\" \n",
       "\n",
       "[[4]]\n",
       "  名詞 \n",
       "\"ちょ\" \n",
       "\n",
       "[[5]]\n",
       "動詞 \n",
       "\"っ\" \n",
       "\n",
       "[[6]]\n",
       "助動詞 \n",
       "  \"た\" \n",
       "\n",
       "[[7]]\n",
       "記号 \n",
       "\"。\" \n"
      ]
     },
     "metadata": {},
     "output_type": "display_data"
    }
   ],
   "source": [
    "# 活用語は活用ごとに登録しないといけない\n",
    "RMeCabC('そこに来ちょった。', dic='dict/example.dic')"
   ]
  },
  {
   "cell_type": "code",
   "execution_count": 42,
   "metadata": {
    "ExecuteTime": {
     "end_time": "2019-07-08T02:41:22.544071Z",
     "start_time": "2019-07-08T02:41:20.050Z"
    }
   },
   "outputs": [],
   "source": [
    "text = 'しまあたのぉ、ここへ今日イノシシの肉が家にあったけん持ってくーだった'"
   ]
  },
  {
   "cell_type": "code",
   "execution_count": 43,
   "metadata": {
    "ExecuteTime": {
     "end_time": "2019-07-08T02:41:22.623858Z",
     "start_time": "2019-07-08T02:41:20.058Z"
    }
   },
   "outputs": [
    {
     "data": {
      "text/html": [
       "<ol>\n",
       "\t<li><strong>動詞:</strong> 'し'</li>\n",
       "\t<li><strong>副詞:</strong> 'まあ'</li>\n",
       "\t<li><strong>助動詞:</strong> 'た'</li>\n",
       "\t<li><strong>助詞:</strong> 'の'</li>\n",
       "\t<li><strong>名詞:</strong> 'ぉ'</li>\n",
       "\t<li><strong>記号:</strong> '、'</li>\n",
       "\t<li><strong>名詞:</strong> 'ここ'</li>\n",
       "\t<li><strong>助詞:</strong> 'へ'</li>\n",
       "\t<li><strong>名詞:</strong> '今日'</li>\n",
       "\t<li><strong>名詞:</strong> 'イノシシ'</li>\n",
       "\t<li><strong>助詞:</strong> 'の'</li>\n",
       "\t<li><strong>名詞:</strong> '肉'</li>\n",
       "\t<li><strong>助詞:</strong> 'が'</li>\n",
       "\t<li><strong>名詞:</strong> '家'</li>\n",
       "\t<li><strong>助詞:</strong> 'に'</li>\n",
       "\t<li><strong>動詞:</strong> 'あっ'</li>\n",
       "\t<li><strong>助動詞:</strong> 'た'</li>\n",
       "\t<li><strong>動詞:</strong> 'けん'</li>\n",
       "\t<li><strong>動詞:</strong> '持っ'</li>\n",
       "\t<li><strong>助詞:</strong> 'て'</li>\n",
       "\t<li><strong>動詞:</strong> 'く'</li>\n",
       "\t<li><strong>名詞:</strong> 'ー'</li>\n",
       "\t<li><strong>助動詞:</strong> 'だっ'</li>\n",
       "\t<li><strong>助動詞:</strong> 'た'</li>\n",
       "</ol>\n"
      ],
      "text/latex": [
       "\\begin{enumerate}\n",
       "\\item \\textbf{動詞:} 'し'\n",
       "\\item \\textbf{副詞:} 'まあ'\n",
       "\\item \\textbf{助動詞:} 'た'\n",
       "\\item \\textbf{助詞:} 'の'\n",
       "\\item \\textbf{名詞:} 'ぉ'\n",
       "\\item \\textbf{記号:} '、'\n",
       "\\item \\textbf{名詞:} 'ここ'\n",
       "\\item \\textbf{助詞:} 'へ'\n",
       "\\item \\textbf{名詞:} '今日'\n",
       "\\item \\textbf{名詞:} 'イノシシ'\n",
       "\\item \\textbf{助詞:} 'の'\n",
       "\\item \\textbf{名詞:} '肉'\n",
       "\\item \\textbf{助詞:} 'が'\n",
       "\\item \\textbf{名詞:} '家'\n",
       "\\item \\textbf{助詞:} 'に'\n",
       "\\item \\textbf{動詞:} 'あっ'\n",
       "\\item \\textbf{助動詞:} 'た'\n",
       "\\item \\textbf{動詞:} 'けん'\n",
       "\\item \\textbf{動詞:} '持っ'\n",
       "\\item \\textbf{助詞:} 'て'\n",
       "\\item \\textbf{動詞:} 'く'\n",
       "\\item \\textbf{名詞:} 'ー'\n",
       "\\item \\textbf{助動詞:} 'だっ'\n",
       "\\item \\textbf{助動詞:} 'た'\n",
       "\\end{enumerate}\n"
      ],
      "text/markdown": [
       "1. **動詞:** 'し'\n",
       "2. **副詞:** 'まあ'\n",
       "3. **助動詞:** 'た'\n",
       "4. **助詞:** 'の'\n",
       "5. **名詞:** 'ぉ'\n",
       "6. **記号:** '、'\n",
       "7. **名詞:** 'ここ'\n",
       "8. **助詞:** 'へ'\n",
       "9. **名詞:** '今日'\n",
       "10. **名詞:** 'イノシシ'\n",
       "11. **助詞:** 'の'\n",
       "12. **名詞:** '肉'\n",
       "13. **助詞:** 'が'\n",
       "14. **名詞:** '家'\n",
       "15. **助詞:** 'に'\n",
       "16. **動詞:** 'あっ'\n",
       "17. **助動詞:** 'た'\n",
       "18. **動詞:** 'けん'\n",
       "19. **動詞:** '持っ'\n",
       "20. **助詞:** 'て'\n",
       "21. **動詞:** 'く'\n",
       "22. **名詞:** 'ー'\n",
       "23. **助動詞:** 'だっ'\n",
       "24. **助動詞:** 'た'\n",
       "\n",
       "\n"
      ],
      "text/plain": [
       "[[1]]\n",
       "動詞 \n",
       "\"し\" \n",
       "\n",
       "[[2]]\n",
       "  副詞 \n",
       "\"まあ\" \n",
       "\n",
       "[[3]]\n",
       "助動詞 \n",
       "  \"た\" \n",
       "\n",
       "[[4]]\n",
       "助詞 \n",
       "\"の\" \n",
       "\n",
       "[[5]]\n",
       "名詞 \n",
       "\"ぉ\" \n",
       "\n",
       "[[6]]\n",
       "記号 \n",
       "\"、\" \n",
       "\n",
       "[[7]]\n",
       "  名詞 \n",
       "\"ここ\" \n",
       "\n",
       "[[8]]\n",
       "助詞 \n",
       "\"へ\" \n",
       "\n",
       "[[9]]\n",
       "  名詞 \n",
       "\"今日\" \n",
       "\n",
       "[[10]]\n",
       "      名詞 \n",
       "\"イノシシ\" \n",
       "\n",
       "[[11]]\n",
       "助詞 \n",
       "\"の\" \n",
       "\n",
       "[[12]]\n",
       "名詞 \n",
       "\"肉\" \n",
       "\n",
       "[[13]]\n",
       "助詞 \n",
       "\"が\" \n",
       "\n",
       "[[14]]\n",
       "名詞 \n",
       "\"家\" \n",
       "\n",
       "[[15]]\n",
       "助詞 \n",
       "\"に\" \n",
       "\n",
       "[[16]]\n",
       "  動詞 \n",
       "\"あっ\" \n",
       "\n",
       "[[17]]\n",
       "助動詞 \n",
       "  \"た\" \n",
       "\n",
       "[[18]]\n",
       "  動詞 \n",
       "\"けん\" \n",
       "\n",
       "[[19]]\n",
       "  動詞 \n",
       "\"持っ\" \n",
       "\n",
       "[[20]]\n",
       "助詞 \n",
       "\"て\" \n",
       "\n",
       "[[21]]\n",
       "動詞 \n",
       "\"く\" \n",
       "\n",
       "[[22]]\n",
       "名詞 \n",
       "\"ー\" \n",
       "\n",
       "[[23]]\n",
       "助動詞 \n",
       "\"だっ\" \n",
       "\n",
       "[[24]]\n",
       "助動詞 \n",
       "  \"た\" \n"
      ]
     },
     "metadata": {},
     "output_type": "display_data"
    }
   ],
   "source": [
    "RMeCabC(text)"
   ]
  },
  {
   "cell_type": "code",
   "execution_count": 44,
   "metadata": {
    "ExecuteTime": {
     "end_time": "2019-07-08T02:41:22.674725Z",
     "start_time": "2019-07-08T02:41:20.069Z"
    }
   },
   "outputs": [],
   "source": [
    "text = 'しまったなぁ、ここへ今日イノシシの肉が家にあったから持ってくるんだった'"
   ]
  },
  {
   "cell_type": "code",
   "execution_count": 45,
   "metadata": {
    "ExecuteTime": {
     "end_time": "2019-07-08T02:41:22.740547Z",
     "start_time": "2019-07-08T02:41:20.076Z"
    }
   },
   "outputs": [
    {
     "data": {
      "text/html": [
       "<ol>\n",
       "\t<li><strong>動詞:</strong> 'しまっ'</li>\n",
       "\t<li><strong>助動詞:</strong> 'た'</li>\n",
       "\t<li><strong>助詞:</strong> 'なぁ'</li>\n",
       "\t<li><strong>記号:</strong> '、'</li>\n",
       "\t<li><strong>名詞:</strong> 'ここ'</li>\n",
       "\t<li><strong>助詞:</strong> 'へ'</li>\n",
       "\t<li><strong>名詞:</strong> '今日'</li>\n",
       "\t<li><strong>名詞:</strong> 'イノシシ'</li>\n",
       "\t<li><strong>助詞:</strong> 'の'</li>\n",
       "\t<li><strong>名詞:</strong> '肉'</li>\n",
       "\t<li><strong>助詞:</strong> 'が'</li>\n",
       "\t<li><strong>名詞:</strong> '家'</li>\n",
       "\t<li><strong>助詞:</strong> 'に'</li>\n",
       "\t<li><strong>動詞:</strong> 'あっ'</li>\n",
       "\t<li><strong>助動詞:</strong> 'た'</li>\n",
       "\t<li><strong>助詞:</strong> 'から'</li>\n",
       "\t<li><strong>動詞:</strong> '持っ'</li>\n",
       "\t<li><strong>助詞:</strong> 'て'</li>\n",
       "\t<li><strong>動詞:</strong> 'くる'</li>\n",
       "\t<li><strong>名詞:</strong> 'ん'</li>\n",
       "\t<li><strong>助動詞:</strong> 'だっ'</li>\n",
       "\t<li><strong>助動詞:</strong> 'た'</li>\n",
       "</ol>\n"
      ],
      "text/latex": [
       "\\begin{enumerate}\n",
       "\\item \\textbf{動詞:} 'しまっ'\n",
       "\\item \\textbf{助動詞:} 'た'\n",
       "\\item \\textbf{助詞:} 'なぁ'\n",
       "\\item \\textbf{記号:} '、'\n",
       "\\item \\textbf{名詞:} 'ここ'\n",
       "\\item \\textbf{助詞:} 'へ'\n",
       "\\item \\textbf{名詞:} '今日'\n",
       "\\item \\textbf{名詞:} 'イノシシ'\n",
       "\\item \\textbf{助詞:} 'の'\n",
       "\\item \\textbf{名詞:} '肉'\n",
       "\\item \\textbf{助詞:} 'が'\n",
       "\\item \\textbf{名詞:} '家'\n",
       "\\item \\textbf{助詞:} 'に'\n",
       "\\item \\textbf{動詞:} 'あっ'\n",
       "\\item \\textbf{助動詞:} 'た'\n",
       "\\item \\textbf{助詞:} 'から'\n",
       "\\item \\textbf{動詞:} '持っ'\n",
       "\\item \\textbf{助詞:} 'て'\n",
       "\\item \\textbf{動詞:} 'くる'\n",
       "\\item \\textbf{名詞:} 'ん'\n",
       "\\item \\textbf{助動詞:} 'だっ'\n",
       "\\item \\textbf{助動詞:} 'た'\n",
       "\\end{enumerate}\n"
      ],
      "text/markdown": [
       "1. **動詞:** 'しまっ'\n",
       "2. **助動詞:** 'た'\n",
       "3. **助詞:** 'なぁ'\n",
       "4. **記号:** '、'\n",
       "5. **名詞:** 'ここ'\n",
       "6. **助詞:** 'へ'\n",
       "7. **名詞:** '今日'\n",
       "8. **名詞:** 'イノシシ'\n",
       "9. **助詞:** 'の'\n",
       "10. **名詞:** '肉'\n",
       "11. **助詞:** 'が'\n",
       "12. **名詞:** '家'\n",
       "13. **助詞:** 'に'\n",
       "14. **動詞:** 'あっ'\n",
       "15. **助動詞:** 'た'\n",
       "16. **助詞:** 'から'\n",
       "17. **動詞:** '持っ'\n",
       "18. **助詞:** 'て'\n",
       "19. **動詞:** 'くる'\n",
       "20. **名詞:** 'ん'\n",
       "21. **助動詞:** 'だっ'\n",
       "22. **助動詞:** 'た'\n",
       "\n",
       "\n"
      ],
      "text/plain": [
       "[[1]]\n",
       "    動詞 \n",
       "\"しまっ\" \n",
       "\n",
       "[[2]]\n",
       "助動詞 \n",
       "  \"た\" \n",
       "\n",
       "[[3]]\n",
       "  助詞 \n",
       "\"なぁ\" \n",
       "\n",
       "[[4]]\n",
       "記号 \n",
       "\"、\" \n",
       "\n",
       "[[5]]\n",
       "  名詞 \n",
       "\"ここ\" \n",
       "\n",
       "[[6]]\n",
       "助詞 \n",
       "\"へ\" \n",
       "\n",
       "[[7]]\n",
       "  名詞 \n",
       "\"今日\" \n",
       "\n",
       "[[8]]\n",
       "      名詞 \n",
       "\"イノシシ\" \n",
       "\n",
       "[[9]]\n",
       "助詞 \n",
       "\"の\" \n",
       "\n",
       "[[10]]\n",
       "名詞 \n",
       "\"肉\" \n",
       "\n",
       "[[11]]\n",
       "助詞 \n",
       "\"が\" \n",
       "\n",
       "[[12]]\n",
       "名詞 \n",
       "\"家\" \n",
       "\n",
       "[[13]]\n",
       "助詞 \n",
       "\"に\" \n",
       "\n",
       "[[14]]\n",
       "  動詞 \n",
       "\"あっ\" \n",
       "\n",
       "[[15]]\n",
       "助動詞 \n",
       "  \"た\" \n",
       "\n",
       "[[16]]\n",
       "  助詞 \n",
       "\"から\" \n",
       "\n",
       "[[17]]\n",
       "  動詞 \n",
       "\"持っ\" \n",
       "\n",
       "[[18]]\n",
       "助詞 \n",
       "\"て\" \n",
       "\n",
       "[[19]]\n",
       "  動詞 \n",
       "\"くる\" \n",
       "\n",
       "[[20]]\n",
       "名詞 \n",
       "\"ん\" \n",
       "\n",
       "[[21]]\n",
       "助動詞 \n",
       "\"だっ\" \n",
       "\n",
       "[[22]]\n",
       "助動詞 \n",
       "  \"た\" \n"
      ]
     },
     "metadata": {},
     "output_type": "display_data"
    }
   ],
   "source": [
    "RMeCabC(text)"
   ]
  }
 ],
 "metadata": {
  "hide_input": false,
  "kernelspec": {
   "display_name": "R",
   "language": "R",
   "name": "ir"
  },
  "language_info": {
   "codemirror_mode": "r",
   "file_extension": ".r",
   "mimetype": "text/x-r-source",
   "name": "R",
   "pygments_lexer": "r",
   "version": "3.4.4"
  },
  "latex_envs": {
   "LaTeX_envs_menu_present": true,
   "autoclose": false,
   "autocomplete": true,
   "bibliofile": "biblio.bib",
   "cite_by": "apalike",
   "current_citInitial": 1,
   "eqLabelWithNumbers": true,
   "eqNumInitial": 1,
   "hotkeys": {
    "equation": "Ctrl-E",
    "itemize": "Ctrl-I"
   },
   "labels_anchors": false,
   "latex_user_defs": false,
   "report_style_numbering": false,
   "user_envs_cfg": false
  },
  "toc": {
   "nav_menu": {},
   "number_sections": true,
   "sideBar": true,
   "skip_h1_title": false,
   "title_cell": "Table of Contents",
   "title_sidebar": "Contents",
   "toc_cell": false,
   "toc_position": {},
   "toc_section_display": true,
   "toc_window_display": false
  }
 },
 "nbformat": 4,
 "nbformat_minor": 2
}
