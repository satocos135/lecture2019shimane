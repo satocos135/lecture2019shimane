{
 "cells": [
  {
   "cell_type": "code",
   "execution_count": 1,
   "metadata": {},
   "outputs": [
    {
     "name": "stderr",
     "output_type": "stream",
     "text": [
      "-- \u001b[1mAttaching packages\u001b[22m --------------------------------------- tidyverse 1.2.1 --\n",
      "\u001b[32m√\u001b[39m \u001b[34mggplot2\u001b[39m 2.2.1     \u001b[32m√\u001b[39m \u001b[34mpurrr  \u001b[39m 0.3.2\n",
      "\u001b[32m√\u001b[39m \u001b[34mtibble \u001b[39m 2.1.3     \u001b[32m√\u001b[39m \u001b[34mdplyr  \u001b[39m 0.8.1\n",
      "\u001b[32m√\u001b[39m \u001b[34mtidyr  \u001b[39m 0.8.3     \u001b[32m√\u001b[39m \u001b[34mstringr\u001b[39m 1.2.0\n",
      "\u001b[32m√\u001b[39m \u001b[34mreadr  \u001b[39m 1.1.1     \u001b[32m√\u001b[39m \u001b[34mforcats\u001b[39m 0.3.0\n",
      "-- \u001b[1mConflicts\u001b[22m ------------------------------------------ tidyverse_conflicts() --\n",
      "\u001b[31mx\u001b[39m \u001b[34mdplyr\u001b[39m::\u001b[32mfilter()\u001b[39m masks \u001b[34mstats\u001b[39m::filter()\n",
      "\u001b[31mx\u001b[39m \u001b[34mdplyr\u001b[39m::\u001b[32mlag()\u001b[39m    masks \u001b[34mstats\u001b[39m::lag()\n"
     ]
    }
   ],
   "source": [
    "# install.packages('tidyverse', repos = \"http://cran.us.r-project.org\")\n",
    "library('tidyverse')"
   ]
  },
  {
   "cell_type": "code",
   "execution_count": 2,
   "metadata": {},
   "outputs": [],
   "source": [
    "#library('dplyr')\n",
    "library('RMeCab')"
   ]
  },
  {
   "cell_type": "code",
   "execution_count": 3,
   "metadata": {},
   "outputs": [],
   "source": [
    "par(mfrow=c(1,1)) "
   ]
  },
  {
   "cell_type": "markdown",
   "metadata": {},
   "source": [
    "# 実習②『こころ』の分析"
   ]
  },
  {
   "cell_type": "code",
   "execution_count": 4,
   "metadata": {},
   "outputs": [
    {
     "data": {
      "text/html": [
       "'C:/Users/satoc/projects/lecture2019'"
      ],
      "text/latex": [
       "'C:/Users/satoc/projects/lecture2019'"
      ],
      "text/markdown": [
       "'C:/Users/satoc/projects/lecture2019'"
      ],
      "text/plain": [
       "[1] \"C:/Users/satoc/projects/lecture2019\""
      ]
     },
     "metadata": {},
     "output_type": "display_data"
    }
   ],
   "source": [
    "getwd()"
   ]
  },
  {
   "cell_type": "code",
   "execution_count": 5,
   "metadata": {},
   "outputs": [],
   "source": [
    "kokoro = read.delim('data/kokoro.tsv', header=T, sep='\\t', stringsAsFactor=F, fileEncoding='utf8')"
   ]
  },
  {
   "cell_type": "code",
   "execution_count": 6,
   "metadata": {},
   "outputs": [],
   "source": [
    "#kokoro %>% head()"
   ]
  },
  {
   "cell_type": "code",
   "execution_count": 7,
   "metadata": {},
   "outputs": [
    {
     "data": {
      "text/html": [
       "<table>\n",
       "<caption>A data.frame: 2 × 4</caption>\n",
       "<thead>\n",
       "\t<tr><th></th><th scope=col>part_id</th><th scope=col>section_id</th><th scope=col>paragraph_id</th><th scope=col>content</th></tr>\n",
       "\t<tr><th></th><th scope=col>&lt;int&gt;</th><th scope=col>&lt;int&gt;</th><th scope=col>&lt;int&gt;</th><th scope=col>&lt;chr&gt;</th></tr>\n",
       "</thead>\n",
       "<tbody>\n",
       "\t<tr><th scope=row>1</th><td>1</td><td>1</td><td>1</td><td>私はその人を常に先生と呼んでいた。だからここでもただ先生と書くだけで本名は打ち明けない。これは世間を憚かる遠慮というよりも、その方が私にとって自然だからである。私はその人の記憶を呼び起すごとに、すぐ「先生」といいたくなる。筆を執っても心持は同じ事である。よそよそしい頭文字などはとても使う気にならない。                                                                                                                                                                                                                                                                                                                                                                                                                                                                                                                                                                              </td></tr>\n",
       "\t<tr><th scope=row>2</th><td>1</td><td>1</td><td>2</td><td>私が先生と知り合いになったのは鎌倉である。その時私はまだ若々しい書生であった。暑中休暇を利用して海水浴に行った友達からぜひ来いという端書を受け取ったので、私は多少の金を工面して、出掛ける事にした。私は金の工面に二、三日を費やした。ところが私が鎌倉に着いて三日と経たないうちに、私を呼び寄せた友達は、急に国元から帰れという電報を受け取った。電報には母が病気だからと断ってあったけれども友達はそれを信じなかった。友達はかねてから国元にいる親たちに勧まない結婚を強いられていた。彼は現代の習慣からいうと結婚するにはあまり年が若過ぎた。それに肝心の当人が気に入らなかった。それで夏休みに当然帰るべきところを、わざと避けて東京の近くで遊んでいたのである。彼は電報を私に見せてどうしようと相談をした。私にはどうしていいか分らなかった。けれども実際彼の母が病気であるとすれば彼は固より帰るべきはずであった。それで彼はとうとう帰る事になった。せっかく来た私は一人取り残された。</td></tr>\n",
       "</tbody>\n",
       "</table>\n"
      ],
      "text/latex": [
       "A data.frame: 2 × 4\n",
       "\\begin{tabular}{r|llll}\n",
       "  & part\\_id & section\\_id & paragraph\\_id & content\\\\\n",
       "  & <int> & <int> & <int> & <chr>\\\\\n",
       "\\hline\n",
       "\t1 & 1 & 1 & 1 & 私はその人を常に先生と呼んでいた。だからここでもただ先生と書くだけで本名は打ち明けない。これは世間を憚かる遠慮というよりも、その方が私にとって自然だからである。私はその人の記憶を呼び起すごとに、すぐ「先生」といいたくなる。筆を執っても心持は同じ事である。よそよそしい頭文字などはとても使う気にならない。                                                                                                                                                                                                                                                                                                                                                                                                                                                                                                                                                                              \\\\\n",
       "\t2 & 1 & 1 & 2 & 私が先生と知り合いになったのは鎌倉である。その時私はまだ若々しい書生であった。暑中休暇を利用して海水浴に行った友達からぜひ来いという端書を受け取ったので、私は多少の金を工面して、出掛ける事にした。私は金の工面に二、三日を費やした。ところが私が鎌倉に着いて三日と経たないうちに、私を呼び寄せた友達は、急に国元から帰れという電報を受け取った。電報には母が病気だからと断ってあったけれども友達はそれを信じなかった。友達はかねてから国元にいる親たちに勧まない結婚を強いられていた。彼は現代の習慣からいうと結婚するにはあまり年が若過ぎた。それに肝心の当人が気に入らなかった。それで夏休みに当然帰るべきところを、わざと避けて東京の近くで遊んでいたのである。彼は電報を私に見せてどうしようと相談をした。私にはどうしていいか分らなかった。けれども実際彼の母が病気であるとすれば彼は固より帰るべきはずであった。それで彼はとうとう帰る事になった。せっかく来た私は一人取り残された。\\\\\n",
       "\\end{tabular}\n"
      ],
      "text/markdown": [
       "\n",
       "A data.frame: 2 × 4\n",
       "\n",
       "| <!--/--> | part_id &lt;int&gt; | section_id &lt;int&gt; | paragraph_id &lt;int&gt; | content &lt;chr&gt; |\n",
       "|---|---|---|---|---|\n",
       "| 1 | 1 | 1 | 1 | 私はその人を常に先生と呼んでいた。だからここでもただ先生と書くだけで本名は打ち明けない。これは世間を憚かる遠慮というよりも、その方が私にとって自然だからである。私はその人の記憶を呼び起すごとに、すぐ「先生」といいたくなる。筆を執っても心持は同じ事である。よそよそしい頭文字などはとても使う気にならない。                                                                                                                                                                                                                                                                                                                                                                                                                                                                                                                                                                               |\n",
       "| 2 | 1 | 1 | 2 | 私が先生と知り合いになったのは鎌倉である。その時私はまだ若々しい書生であった。暑中休暇を利用して海水浴に行った友達からぜひ来いという端書を受け取ったので、私は多少の金を工面して、出掛ける事にした。私は金の工面に二、三日を費やした。ところが私が鎌倉に着いて三日と経たないうちに、私を呼び寄せた友達は、急に国元から帰れという電報を受け取った。電報には母が病気だからと断ってあったけれども友達はそれを信じなかった。友達はかねてから国元にいる親たちに勧まない結婚を強いられていた。彼は現代の習慣からいうと結婚するにはあまり年が若過ぎた。それに肝心の当人が気に入らなかった。それで夏休みに当然帰るべきところを、わざと避けて東京の近くで遊んでいたのである。彼は電報を私に見せてどうしようと相談をした。私にはどうしていいか分らなかった。けれども実際彼の母が病気であるとすれば彼は固より帰るべきはずであった。それで彼はとうとう帰る事になった。せっかく来た私は一人取り残された。 |\n",
       "\n"
      ],
      "text/plain": [
       "  part_id section_id paragraph_id\n",
       "1 1       1          1           \n",
       "2 1       1          2           \n",
       "  content                                                                                                                                                                                                                                                                                                                                                                                                                                                                                                                                                                                                                                                                                                                                                                                                                                                                                     \n",
       "1 私はその人を常に先生と呼んでいた。だからここでもただ先生と書くだけで本名は打ち明けない。これは世間を憚かる遠慮というよりも、その方が私にとって自然だからである。私はその人の記憶を呼び起すごとに、すぐ「先生」といいたくなる。筆を執っても心持は同じ事である。よそよそしい頭文字などはとても使う気にならない。                                                                                                                                                                                                                                                                                                                                                                                                                                                                                                                                                                              \n",
       "2 私が先生と知り合いになったのは鎌倉である。その時私はまだ若々しい書生であった。暑中休暇を利用して海水浴に行った友達からぜひ来いという端書を受け取ったので、私は多少の金を工面して、出掛ける事にした。私は金の工面に二、三日を費やした。ところが私が鎌倉に着いて三日と経たないうちに、私を呼び寄せた友達は、急に国元から帰れという電報を受け取った。電報には母が病気だからと断ってあったけれども友達はそれを信じなかった。友達はかねてから国元にいる親たちに勧まない結婚を強いられていた。彼は現代の習慣からいうと結婚するにはあまり年が若過ぎた。それに肝心の当人が気に入らなかった。それで夏休みに当然帰るべきところを、わざと避けて東京の近くで遊んでいたのである。彼は電報を私に見せてどうしようと相談をした。私にはどうしていいか分らなかった。けれども実際彼の母が病気であるとすれば彼は固より帰るべきはずであった。それで彼はとうとう帰る事になった。せっかく来た私は一人取り残された。"
      ]
     },
     "metadata": {},
     "output_type": "display_data"
    }
   ],
   "source": [
    "kokoro[1:2,] "
   ]
  },
  {
   "cell_type": "code",
   "execution_count": 8,
   "metadata": {},
   "outputs": [
    {
     "data": {
      "image/png": "[encoded data removed]",
      "text/plain": [
       "Plot with title \"Histogram of paragraph length\""
      ]
     },
     "metadata": {},
     "output_type": "display_data"
    }
   ],
   "source": [
    "# 段落の長さの分布\n",
    "kokoro[, 'content'] %>% str_length() %>% hist(breaks=40, xlab='Paragraph length', main='Histogram of paragraph length')"
   ]
  },
  {
   "cell_type": "code",
   "execution_count": 9,
   "metadata": {},
   "outputs": [],
   "source": [
    "kokoro['length'] = kokoro[, 'content'] %>% str_length()"
   ]
  },
  {
   "cell_type": "code",
   "execution_count": 10,
   "metadata": {},
   "outputs": [
    {
     "data": {
      "image/png": "[encoded data removed]",
      "text/plain": [
       "Plot with title \"Paragraph length of each part\""
      ]
     },
     "metadata": {},
     "output_type": "display_data"
    }
   ],
   "source": [
    "boxplot(length ~ part_id, data=kokoro, main='Paragraph length of each part')"
   ]
  },
  {
   "cell_type": "code",
   "execution_count": 11,
   "metadata": {},
   "outputs": [],
   "source": [
    "# 全体を通すセクション用idを作る\n",
    "kokoro['section_id2'] = kokoro['part_id'] * 100 + kokoro['section_id']"
   ]
  },
  {
   "cell_type": "code",
   "execution_count": 12,
   "metadata": {},
   "outputs": [
    {
     "data": {
      "image/png": "[encoded data removed]",
      "text/plain": [
       "Plot with title \"Paragraph length of each section\""
      ]
     },
     "metadata": {},
     "output_type": "display_data"
    }
   ],
   "source": [
    "boxplot(length ~ section_id2, data=kokoro, main='Paragraph length of each section')"
   ]
  },
  {
   "cell_type": "code",
   "execution_count": 13,
   "metadata": {},
   "outputs": [],
   "source": [
    "# 分析のため各話ごとに文章を結合する\n",
    "parts = kokoro %>% group_by(part_id) %>% summarise(text = paste0(content, collapse=''))\n",
    "parts = as.data.frame(parts)"
   ]
  },
  {
   "cell_type": "code",
   "execution_count": 14,
   "metadata": {},
   "outputs": [
    {
     "data": {
      "text/html": [
       "<ol class=list-inline>\n",
       "\t<li>3</li>\n",
       "\t<li>2</li>\n",
       "</ol>\n"
      ],
      "text/latex": [
       "\\begin{enumerate*}\n",
       "\\item 3\n",
       "\\item 2\n",
       "\\end{enumerate*}\n"
      ],
      "text/markdown": [
       "1. 3\n",
       "2. 2\n",
       "\n",
       "\n"
      ],
      "text/plain": [
       "[1] 3 2"
      ]
     },
     "metadata": {},
     "output_type": "display_data"
    }
   ],
   "source": [
    "dim(parts)"
   ]
  },
  {
   "cell_type": "code",
   "execution_count": 15,
   "metadata": {},
   "outputs": [
    {
     "data": {
      "text/html": [
       "<ol class=list-inline>\n",
       "\t<li>49137</li>\n",
       "\t<li>25177</li>\n",
       "\t<li>85670</li>\n",
       "</ol>\n"
      ],
      "text/latex": [
       "\\begin{enumerate*}\n",
       "\\item 49137\n",
       "\\item 25177\n",
       "\\item 85670\n",
       "\\end{enumerate*}\n"
      ],
      "text/markdown": [
       "1. 49137\n",
       "2. 25177\n",
       "3. 85670\n",
       "\n",
       "\n"
      ],
      "text/plain": [
       "[1] 49137 25177 85670"
      ]
     },
     "metadata": {},
     "output_type": "display_data"
    }
   ],
   "source": [
    "parts[, 'text'] %>% str_length() "
   ]
  },
  {
   "cell_type": "code",
   "execution_count": 16,
   "metadata": {},
   "outputs": [
    {
     "name": "stdout",
     "output_type": "stream",
     "text": [
      "to make data frame\n",
      "\n"
     ]
    }
   ],
   "source": [
    "count_noun = docMatrixDF(parts[,'text'], pos=c('名詞'))"
   ]
  },
  {
   "cell_type": "code",
   "execution_count": 17,
   "metadata": {},
   "outputs": [],
   "source": [
    "# 全体を集計する\n",
    "freq_noun = count_noun %>% rowSums()"
   ]
  },
  {
   "cell_type": "code",
   "execution_count": 18,
   "metadata": {},
   "outputs": [
    {
     "data": {
      "image/png": "[encoded data removed]",
      "text/plain": [
       "Plot with title \"Distribution of noun frequency\""
      ]
     },
     "metadata": {},
     "output_type": "display_data"
    }
   ],
   "source": [
    "# 全体を集計する\n",
    "freq_noun %>% sort(decreasing=T) %>% plot(main='Distribution of noun frequency', xlab='Rank', ylab='Frequency')"
   ]
  },
  {
   "cell_type": "code",
   "execution_count": 19,
   "metadata": {},
   "outputs": [
    {
     "data": {
      "image/png": "[encoded data removed]",
      "text/plain": [
       "Plot with title \"Distribution of noun frequency\""
      ]
     },
     "metadata": {},
     "output_type": "display_data"
    }
   ],
   "source": [
    "freq_noun %>% sort(decreasing=T) %>% plot(main='Distribution of noun frequency', xlab='Rank (log)', ylab='Frequency (log)', log='xy')"
   ]
  },
  {
   "cell_type": "code",
   "execution_count": 20,
   "metadata": {},
   "outputs": [
    {
     "data": {
      "image/png": "[encoded data removed]",
      "text/plain": [
       "Plot with title \"Top 30 nouns\""
      ]
     },
     "metadata": {},
     "output_type": "display_data"
    }
   ],
   "source": [
    "freq_noun %>% sort() %>% tail(30) %>% barplot(horiz=T, las=1, main='Top 30 nouns', xlab='Frequency')"
   ]
  },
  {
   "cell_type": "code",
   "execution_count": 21,
   "metadata": {},
   "outputs": [],
   "source": [
    "stopwords = c('事','の','よう','それ','もの', '人', '何','一', 'ん','方','二','前','気','中','上','今','ため')"
   ]
  },
  {
   "cell_type": "code",
   "execution_count": 22,
   "metadata": {},
   "outputs": [
    {
     "data": {
      "image/png": "[encoded data removed]",
      "text/plain": [
       "Plot with title \"Top 30 nouns\""
      ]
     },
     "metadata": {},
     "output_type": "display_data"
    }
   ],
   "source": [
    "freq_noun[!names(freq_noun) %in% stopwords] %>% sort() %>% tail(30) %>% barplot(horiz=T, las=1, main='Top 30 nouns', xlab='Frequency')\n"
   ]
  },
  {
   "cell_type": "code",
   "execution_count": 23,
   "metadata": {},
   "outputs": [
    {
     "data": {
      "image/png": "[encoded data removed]",
      "text/plain": [
       "Plot with title \"Top 30 nouns\""
      ]
     },
     "metadata": {},
     "output_type": "display_data"
    }
   ],
   "source": [
    "stopwords = c('事','の','よう','それ','もの', '人', '何','一', 'ん','方','二','前','気','中','上','今','ため', '時', 'そこ', 'どこ', 'これ', 'そう')\n",
    "freq_noun[!names(freq_noun) %in% stopwords] %>% sort() %>% tail(30) %>% barplot(horiz=T, las=1, main='Top 30 nouns', xlab='Frequency')"
   ]
  },
  {
   "cell_type": "code",
   "execution_count": 24,
   "metadata": {},
   "outputs": [],
   "source": [
    "# PCA Principal Component Analysis\n",
    "mat = count_noun \n",
    "mat = mat[rowSums(mat) > 50, ]\n",
    "mat = mat[!row.names(mat) %in% stopwords, ]\n",
    "colnames(mat) = c('第一部', '第二部', '第三部')\n",
    "mat_t = t(mat)"
   ]
  },
  {
   "cell_type": "code",
   "execution_count": 25,
   "metadata": {},
   "outputs": [
    {
     "data": {
      "text/html": [
       "<table>\n",
       "<caption>A matrix: 6 × 3 of type int</caption>\n",
       "<thead>\n",
       "\t<tr><th></th><th scope=col>第一部</th><th scope=col>第二部</th><th scope=col>第三部</th></tr>\n",
       "</thead>\n",
       "<tbody>\n",
       "\t<tr><th scope=row>あなた</th><td> 70</td><td>10</td><td>107</td></tr>\n",
       "\t<tr><th scope=row>うち</th><td> 43</td><td>29</td><td> 46</td></tr>\n",
       "\t<tr><th scope=row>お嬢さん</th><td>  0</td><td> 0</td><td>168</td></tr>\n",
       "\t<tr><th scope=row>ところ</th><td> 16</td><td>13</td><td> 39</td></tr>\n",
       "\t<tr><th scope=row>意味</th><td> 24</td><td> 8</td><td> 37</td></tr>\n",
       "\t<tr><th scope=row>奥さん</th><td>183</td><td> 7</td><td>198</td></tr>\n",
       "</tbody>\n",
       "</table>\n"
      ],
      "text/latex": [
       "A matrix: 6 × 3 of type int\n",
       "\\begin{tabular}{r|lll}\n",
       "  & 第一部 & 第二部 & 第三部\\\\\n",
       "\\hline\n",
       "\tあなた &  70 & 10 & 107\\\\\n",
       "\tうち &  43 & 29 &  46\\\\\n",
       "\tお嬢さん &   0 &  0 & 168\\\\\n",
       "\tところ &  16 & 13 &  39\\\\\n",
       "\t意味 &  24 &  8 &  37\\\\\n",
       "\t奥さん & 183 &  7 & 198\\\\\n",
       "\\end{tabular}\n"
      ],
      "text/markdown": [
       "\n",
       "A matrix: 6 × 3 of type int\n",
       "\n",
       "| <!--/--> | 第一部 | 第二部 | 第三部 |\n",
       "|---|---|---|---|\n",
       "| あなた |  70 | 10 | 107 |\n",
       "| うち |  43 | 29 |  46 |\n",
       "| お嬢さん |   0 |  0 | 168 |\n",
       "| ところ |  16 | 13 |  39 |\n",
       "| 意味 |  24 |  8 |  37 |\n",
       "| 奥さん | 183 |  7 | 198 |\n",
       "\n"
      ],
      "text/plain": [
       "         第一部 第二部 第三部\n",
       "あなた    70    10     107   \n",
       "うち      43    29      46   \n",
       "お嬢さん   0     0     168   \n",
       "ところ    16    13      39   \n",
       "意味      24     8      37   \n",
       "奥さん   183     7     198   "
      ]
     },
     "metadata": {},
     "output_type": "display_data"
    }
   ],
   "source": [
    "mat %>% head()"
   ]
  },
  {
   "cell_type": "code",
   "execution_count": 26,
   "metadata": {},
   "outputs": [
    {
     "data": {
      "text/html": [
       "<table>\n",
       "<caption>A matrix: 3 × 49 of type dbl</caption>\n",
       "<thead>\n",
       "\t<tr><th></th><th scope=col>あなた</th><th scope=col>うち</th><th scope=col>お嬢さん</th><th scope=col>ところ</th><th scope=col>意味</th><th scope=col>奥さん</th><th scope=col>家</th><th scope=col>外</th><th scope=col>間</th><th scope=col>眼</th><th scope=col>...</th><th scope=col>頭</th><th scope=col>日</th><th scope=col>彼</th><th scope=col>病気</th><th scope=col>父</th><th scope=col>返事</th><th scope=col>母</th><th scope=col>問題</th><th scope=col>様子</th><th scope=col>話</th></tr>\n",
       "</thead>\n",
       "<tbody>\n",
       "\t<tr><th scope=row>第一部</th><td>0.027844073</td><td>0.01710422</td><td>0.00000000</td><td>0.006364360</td><td>0.009546539</td><td>0.072792363</td><td>0.009944312</td><td>0.007557677</td><td>0.013922037</td><td>0.01352426</td><td>...</td><td>0.009546539</td><td>0.01949085</td><td>0.004375497</td><td>0.011137629</td><td>0.019093079</td><td>0.005568815</td><td>0.008750994</td><td>0.0099443119</td><td>0.006364360</td><td>0.005568815</td></tr>\n",
       "\t<tr><th scope=row>第二部</th><td>0.007225434</td><td>0.02095376</td><td>0.00000000</td><td>0.009393064</td><td>0.005780347</td><td>0.005057803</td><td>0.009393064</td><td>0.005057803</td><td>0.008670520</td><td>0.01445087</td><td>...</td><td>0.008670520</td><td>0.01372832</td><td>0.001445087</td><td>0.018063584</td><td>0.134393064</td><td>0.013005780</td><td>0.080202312</td><td>0.0007225434</td><td>0.010838150</td><td>0.006502890</td></tr>\n",
       "\t<tr><th scope=row>第三部</th><td>0.024976657</td><td>0.01073763</td><td>0.03921569</td><td>0.009103641</td><td>0.008636788</td><td>0.046218487</td><td>0.013305322</td><td>0.008403361</td><td>0.009337068</td><td>0.01610644</td><td>...</td><td>0.008636788</td><td>0.01143791</td><td>0.070261438</td><td>0.002334267</td><td>0.008169935</td><td>0.004901961</td><td>0.008636788</td><td>0.0067693744</td><td>0.007002801</td><td>0.012371615</td></tr>\n",
       "</tbody>\n",
       "</table>\n"
      ],
      "text/latex": [
       "A matrix: 3 × 49 of type dbl\n",
       "\\begin{tabular}{r|lllllllllllllllllllllllllllllllllllllllllllllllll}\n",
       "  & あなた & うち & お嬢さん & ところ & 意味 & 奥さん & 家 & 外 & 間 & 眼 & 顔 & 急 & 兄 & 言葉 & 後 & 口 & 妻 & 三 & 私 & 自分 & 室 & 手 & 手紙 & 叔父 & 所 & 女 & 心 & 心持 & 人間 & 声 & 先 & 先生 & 卒業 & 態度 & 宅 & 男 & 通り & 的 & 東京 & 頭 & 日 & 彼 & 病気 & 父 & 返事 & 母 & 問題 & 様子 & 話\\\\\n",
       "\\hline\n",
       "\t第一部 & 0.027844073 & 0.01710422 & 0.00000000 & 0.006364360 & 0.009546539 & 0.072792363 & 0.009944312 & 0.007557677 & 0.013922037 & 0.01352426 & 0.01630867 & 0.008750994 & 0.0007955449 & 0.01710422 & 0.008750994 & 0.01034208 & 0.003977725 & 0.009148767 & 0.3027049 & 0.01909308 & 0.001193317 & 0.009546539 & 0.005171042 & 0.0003977725 & 0.006364360 & 0.007955449 & 0.009944312 & 0.004773270 & 0.012728719 & 0.004773270 & 0.007955449 & 0.2024661893 & 0.007159905 & 0.006364360 & 0.009944312 & 0.0071599045 & 0.008750994 & 0.006364360 & 0.005568815 & 0.009546539 & 0.01949085 & 0.004375497 & 0.011137629 & 0.019093079 & 0.005568815 & 0.008750994 & 0.0099443119 & 0.006364360 & 0.005568815\\\\\n",
       "\t第二部 & 0.007225434 & 0.02095376 & 0.00000000 & 0.009393064 & 0.005780347 & 0.005057803 & 0.009393064 & 0.005057803 & 0.008670520 & 0.01445087 & 0.01517341 & 0.002890173 & 0.0411849711 & 0.01950867 & 0.009393064 & 0.02095376 & 0.000000000 & 0.006502890 & 0.2572254 & 0.02962428 & 0.002890173 & 0.007947977 & 0.028179191 & 0.0000000000 & 0.013005780 & 0.003612717 & 0.011560694 & 0.005057803 & 0.006502890 & 0.010838150 & 0.004335260 & 0.0614161850 & 0.023121387 & 0.004335260 & 0.005780347 & 0.0007225434 & 0.012283237 & 0.002167630 & 0.020231214 & 0.008670520 & 0.01372832 & 0.001445087 & 0.018063584 & 0.134393064 & 0.013005780 & 0.080202312 & 0.0007225434 & 0.010838150 & 0.006502890\\\\\n",
       "\t第三部 & 0.024976657 & 0.01073763 & 0.03921569 & 0.009103641 & 0.008636788 & 0.046218487 & 0.013305322 & 0.008403361 & 0.009337068 & 0.01610644 & 0.01704015 & 0.006535948 & 0.0007002801 & 0.01330532 & 0.010270775 & 0.01097106 & 0.022175537 & 0.007703081 & 0.3678805 & 0.04084967 & 0.016106443 & 0.008636788 & 0.005135387 & 0.0161064426 & 0.008169935 & 0.012138189 & 0.017507003 & 0.008870215 & 0.007002801 & 0.007703081 & 0.006302521 & 0.0002334267 & 0.001867414 & 0.007469655 & 0.009803922 & 0.0109710551 & 0.016106443 & 0.008403361 & 0.007469655 & 0.008636788 & 0.01143791 & 0.070261438 & 0.002334267 & 0.008169935 & 0.004901961 & 0.008636788 & 0.0067693744 & 0.007002801 & 0.012371615\\\\\n",
       "\\end{tabular}\n"
      ],
      "text/markdown": [
       "\n",
       "A matrix: 3 × 49 of type dbl\n",
       "\n",
       "| <!--/--> | あなた | うち | お嬢さん | ところ | 意味 | 奥さん | 家 | 外 | 間 | 眼 | ... | 頭 | 日 | 彼 | 病気 | 父 | 返事 | 母 | 問題 | 様子 | 話 |\n",
       "|---|---|---|---|---|---|---|---|---|---|---|---|---|---|---|---|---|---|---|---|---|---|\n",
       "| 第一部 | 0.027844073 | 0.01710422 | 0.00000000 | 0.006364360 | 0.009546539 | 0.072792363 | 0.009944312 | 0.007557677 | 0.013922037 | 0.01352426 | ... | 0.009546539 | 0.01949085 | 0.004375497 | 0.011137629 | 0.019093079 | 0.005568815 | 0.008750994 | 0.0099443119 | 0.006364360 | 0.005568815 |\n",
       "| 第二部 | 0.007225434 | 0.02095376 | 0.00000000 | 0.009393064 | 0.005780347 | 0.005057803 | 0.009393064 | 0.005057803 | 0.008670520 | 0.01445087 | ... | 0.008670520 | 0.01372832 | 0.001445087 | 0.018063584 | 0.134393064 | 0.013005780 | 0.080202312 | 0.0007225434 | 0.010838150 | 0.006502890 |\n",
       "| 第三部 | 0.024976657 | 0.01073763 | 0.03921569 | 0.009103641 | 0.008636788 | 0.046218487 | 0.013305322 | 0.008403361 | 0.009337068 | 0.01610644 | ... | 0.008636788 | 0.01143791 | 0.070261438 | 0.002334267 | 0.008169935 | 0.004901961 | 0.008636788 | 0.0067693744 | 0.007002801 | 0.012371615 |\n",
       "\n"
      ],
      "text/plain": [
       "       あなた      うち       お嬢さん   ところ      意味        奥さん     \n",
       "第一部 0.027844073 0.01710422 0.00000000 0.006364360 0.009546539 0.072792363\n",
       "第二部 0.007225434 0.02095376 0.00000000 0.009393064 0.005780347 0.005057803\n",
       "第三部 0.024976657 0.01073763 0.03921569 0.009103641 0.008636788 0.046218487\n",
       "       家          外          間          眼         ... 頭         \n",
       "第一部 0.009944312 0.007557677 0.013922037 0.01352426 ... 0.009546539\n",
       "第二部 0.009393064 0.005057803 0.008670520 0.01445087 ... 0.008670520\n",
       "第三部 0.013305322 0.008403361 0.009337068 0.01610644 ... 0.008636788\n",
       "       日         彼          病気        父          返事        母         \n",
       "第一部 0.01949085 0.004375497 0.011137629 0.019093079 0.005568815 0.008750994\n",
       "第二部 0.01372832 0.001445087 0.018063584 0.134393064 0.013005780 0.080202312\n",
       "第三部 0.01143791 0.070261438 0.002334267 0.008169935 0.004901961 0.008636788\n",
       "       問題         様子        話         \n",
       "第一部 0.0099443119 0.006364360 0.005568815\n",
       "第二部 0.0007225434 0.010838150 0.006502890\n",
       "第三部 0.0067693744 0.007002801 0.012371615"
      ]
     },
     "metadata": {},
     "output_type": "display_data"
    }
   ],
   "source": [
    "(mat_t / colSums(mat)) "
   ]
  },
  {
   "cell_type": "code",
   "execution_count": 27,
   "metadata": {},
   "outputs": [],
   "source": [
    "result = (mat_t / colSums(mat)) %>% prcomp()"
   ]
  },
  {
   "cell_type": "code",
   "execution_count": 28,
   "metadata": {},
   "outputs": [
    {
     "data": {
      "image/png": "[encoded data removed]",
      "text/plain": [
       "plot without title"
      ]
     },
     "metadata": {},
     "output_type": "display_data"
    }
   ],
   "source": [
    "# 単語の頻度\n",
    "biplot(result)\n",
    "## べき分布なので、頻度の多い単語に引っ張られて他のがよくわからない"
   ]
  },
  {
   "cell_type": "code",
   "execution_count": 29,
   "metadata": {},
   "outputs": [],
   "source": [
    "#result = log(mat + 1) %>% prcomp()"
   ]
  },
  {
   "cell_type": "code",
   "execution_count": 30,
   "metadata": {},
   "outputs": [],
   "source": [
    "# 出現確率の比をとる\n",
    "ratio = mat_t / colSums(mat)\n",
    "ratio_t = t(ratio)"
   ]
  },
  {
   "cell_type": "code",
   "execution_count": 31,
   "metadata": {},
   "outputs": [],
   "source": [
    "result = (ratio_t / colSums(ratio))  %>% prcomp()"
   ]
  },
  {
   "cell_type": "code",
   "execution_count": 32,
   "metadata": {},
   "outputs": [
    {
     "data": {
      "image/png": "[encoded data removed]",
      "text/plain": [
       "plot without title"
      ]
     },
     "metadata": {},
     "output_type": "display_data"
    }
   ],
   "source": [
    "biplot(result)"
   ]
  },
  {
   "cell_type": "code",
   "execution_count": 33,
   "metadata": {},
   "outputs": [
    {
     "name": "stdout",
     "output_type": "stream",
     "text": [
      "to make data frame\n",
      "\n"
     ]
    }
   ],
   "source": [
    "count_noun = docMatrixDF(parts[,'text'], pos=c('名詞'), dic='dict/kokoro_sjis.dic')"
   ]
  },
  {
   "cell_type": "code",
   "execution_count": 34,
   "metadata": {},
   "outputs": [],
   "source": [
    "# 共起分析\n",
    "# バイグラム"
   ]
  },
  {
   "cell_type": "code",
   "execution_count": null,
   "metadata": {},
   "outputs": [],
   "source": []
  },
  {
   "cell_type": "code",
   "execution_count": 35,
   "metadata": {},
   "outputs": [
    {
     "name": "stdout",
     "output_type": "stream",
     "text": [
      "number of extracted terms = 28478\n",
      "now making a data frame. wait a while!\n",
      "\n"
     ]
    }
   ],
   "source": [
    "bigram = docDF(parts,col='text', type=1, pos=c('名詞', '動詞', '形容詞'), N=2, nDF=1, dic='dict/kokoro_sjis.dic')"
   ]
  },
  {
   "cell_type": "code",
   "execution_count": 36,
   "metadata": {},
   "outputs": [],
   "source": [
    "#bigram %>% head()"
   ]
  },
  {
   "cell_type": "code",
   "execution_count": 37,
   "metadata": {},
   "outputs": [],
   "source": [
    "# distribution\n",
    "bigram['freq'] = bigram[,5:7] %>% rowSums() "
   ]
  },
  {
   "cell_type": "code",
   "execution_count": 38,
   "metadata": {},
   "outputs": [
    {
     "data": {
      "image/png": "[encoded data removed]",
      "text/plain": [
       "plot without title"
      ]
     },
     "metadata": {},
     "output_type": "display_data"
    }
   ],
   "source": [
    "bigram[,'freq'] %>% sort(decreasing=T) %>% plot()"
   ]
  },
  {
   "cell_type": "code",
   "execution_count": 39,
   "metadata": {},
   "outputs": [
    {
     "data": {
      "image/png": "[encoded data removed]",
      "text/plain": [
       "plot without title"
      ]
     },
     "metadata": {},
     "output_type": "display_data"
    }
   ],
   "source": [
    "bigram[,'freq'] %>% sort(decreasing=T) %>% plot(log='xy')"
   ]
  },
  {
   "cell_type": "code",
   "execution_count": 40,
   "metadata": {},
   "outputs": [
    {
     "name": "stderr",
     "output_type": "stream",
     "text": [
      "\n",
      "Attaching package: 'igraph'\n",
      "\n",
      "The following objects are masked from 'package:dplyr':\n",
      "\n",
      "    as_data_frame, groups, union\n",
      "\n",
      "The following objects are masked from 'package:purrr':\n",
      "\n",
      "    compose, simplify\n",
      "\n",
      "The following object is masked from 'package:tidyr':\n",
      "\n",
      "    crossing\n",
      "\n",
      "The following object is masked from 'package:tibble':\n",
      "\n",
      "    as_data_frame\n",
      "\n",
      "The following objects are masked from 'package:stats':\n",
      "\n",
      "    decompose, spectrum\n",
      "\n",
      "The following object is masked from 'package:base':\n",
      "\n",
      "    union\n",
      "\n"
     ]
    }
   ],
   "source": [
    "library('igraph')"
   ]
  },
  {
   "cell_type": "code",
   "execution_count": 41,
   "metadata": {},
   "outputs": [
    {
     "data": {
      "text/html": [
       "<table>\n",
       "<caption>A data.frame: 1 × 8</caption>\n",
       "<thead>\n",
       "\t<tr><th></th><th scope=col>N1</th><th scope=col>N2</th><th scope=col>POS1</th><th scope=col>POS2</th><th scope=col>Row1</th><th scope=col>Row2</th><th scope=col>Row3</th><th scope=col>freq</th></tr>\n",
       "\t<tr><th></th><th scope=col>&lt;chr&gt;</th><th scope=col>&lt;chr&gt;</th><th scope=col>&lt;chr&gt;</th><th scope=col>&lt;chr&gt;</th><th scope=col>&lt;int&gt;</th><th scope=col>&lt;int&gt;</th><th scope=col>&lt;int&gt;</th><th scope=col>&lt;dbl&gt;</th></tr>\n",
       "</thead>\n",
       "<tbody>\n",
       "\t<tr><th scope=row>1</th><td>Ｋ</td><td>いい</td><td>名詞-形容詞</td><td>固有名詞-自立</td><td>0</td><td>0</td><td>1</td><td>1</td></tr>\n",
       "</tbody>\n",
       "</table>\n"
      ],
      "text/latex": [
       "A data.frame: 1 × 8\n",
       "\\begin{tabular}{r|llllllll}\n",
       "  & N1 & N2 & POS1 & POS2 & Row1 & Row2 & Row3 & freq\\\\\n",
       "  & <chr> & <chr> & <chr> & <chr> & <int> & <int> & <int> & <dbl>\\\\\n",
       "\\hline\n",
       "\t1 & Ｋ & いい & 名詞-形容詞 & 固有名詞-自立 & 0 & 0 & 1 & 1\\\\\n",
       "\\end{tabular}\n"
      ],
      "text/markdown": [
       "\n",
       "A data.frame: 1 × 8\n",
       "\n",
       "| <!--/--> | N1 &lt;chr&gt; | N2 &lt;chr&gt; | POS1 &lt;chr&gt; | POS2 &lt;chr&gt; | Row1 &lt;int&gt; | Row2 &lt;int&gt; | Row3 &lt;int&gt; | freq &lt;dbl&gt; |\n",
       "|---|---|---|---|---|---|---|---|---|\n",
       "| 1 | Ｋ | いい | 名詞-形容詞 | 固有名詞-自立 | 0 | 0 | 1 | 1 |\n",
       "\n"
      ],
      "text/plain": [
       "  N1 N2   POS1        POS2          Row1 Row2 Row3 freq\n",
       "1 Ｋ いい 名詞-形容詞 固有名詞-自立 0    0    1    1   "
      ]
     },
     "metadata": {},
     "output_type": "display_data"
    }
   ],
   "source": [
    "bigram[1,]"
   ]
  },
  {
   "cell_type": "code",
   "execution_count": 42,
   "metadata": {},
   "outputs": [],
   "source": [
    "net = bigram %>%  select(N1, N2, freq=Row1) %>% filter(freq > 20)  %>% filter(! N1 %in% stopwords) %>%  filter(! N2 %in% stopwords)"
   ]
  },
  {
   "cell_type": "code",
   "execution_count": 43,
   "metadata": {},
   "outputs": [
    {
     "data": {
      "text/html": [
       "<table>\n",
       "<caption>A data.frame: 1 × 3</caption>\n",
       "<thead>\n",
       "\t<tr><th></th><th scope=col>N1</th><th scope=col>N2</th><th scope=col>freq</th></tr>\n",
       "\t<tr><th></th><th scope=col>&lt;chr&gt;</th><th scope=col>&lt;chr&gt;</th><th scope=col>&lt;int&gt;</th></tr>\n",
       "</thead>\n",
       "<tbody>\n",
       "\t<tr><th scope=row>1</th><td>いう</td><td>私</td><td>26</td></tr>\n",
       "</tbody>\n",
       "</table>\n"
      ],
      "text/latex": [
       "A data.frame: 1 × 3\n",
       "\\begin{tabular}{r|lll}\n",
       "  & N1 & N2 & freq\\\\\n",
       "  & <chr> & <chr> & <int>\\\\\n",
       "\\hline\n",
       "\t1 & いう & 私 & 26\\\\\n",
       "\\end{tabular}\n"
      ],
      "text/markdown": [
       "\n",
       "A data.frame: 1 × 3\n",
       "\n",
       "| <!--/--> | N1 &lt;chr&gt; | N2 &lt;chr&gt; | freq &lt;int&gt; |\n",
       "|---|---|---|---|\n",
       "| 1 | いう | 私 | 26 |\n",
       "\n"
      ],
      "text/plain": [
       "  N1   N2 freq\n",
       "1 いう 私 26  "
      ]
     },
     "metadata": {},
     "output_type": "display_data"
    }
   ],
   "source": [
    "net[1,]"
   ]
  },
  {
   "cell_type": "code",
   "execution_count": 44,
   "metadata": {},
   "outputs": [
    {
     "data": {
      "text/html": [
       "<ol class=list-inline>\n",
       "\t<li>11</li>\n",
       "\t<li>3</li>\n",
       "</ol>\n"
      ],
      "text/latex": [
       "\\begin{enumerate*}\n",
       "\\item 11\n",
       "\\item 3\n",
       "\\end{enumerate*}\n"
      ],
      "text/markdown": [
       "1. 11\n",
       "2. 3\n",
       "\n",
       "\n"
      ],
      "text/plain": [
       "[1] 11  3"
      ]
     },
     "metadata": {},
     "output_type": "display_data"
    }
   ],
   "source": [
    "dim(net)"
   ]
  },
  {
   "cell_type": "code",
   "execution_count": 45,
   "metadata": {},
   "outputs": [],
   "source": [
    "# tkplot: jupyter notebookでは動かないので RStudiio上で実演する\n",
    "#net %>% graph_from_data_frame() %>% tkplot(vertex.color='SkyBlue', vertex.size=22)"
   ]
  },
  {
   "cell_type": "code",
   "execution_count": 46,
   "metadata": {},
   "outputs": [
    {
     "data": {
      "text/html": [
       "<table>\n",
       "<caption>A data.frame: 6 × 5</caption>\n",
       "<thead>\n",
       "\t<tr><th></th><th scope=col>part_id</th><th scope=col>section_id</th><th scope=col>paragraph_id</th><th scope=col>sentence_id</th><th scope=col>content</th></tr>\n",
       "\t<tr><th></th><th scope=col>&lt;int&gt;</th><th scope=col>&lt;int&gt;</th><th scope=col>&lt;int&gt;</th><th scope=col>&lt;int&gt;</th><th scope=col>&lt;chr&gt;</th></tr>\n",
       "</thead>\n",
       "<tbody>\n",
       "\t<tr><th scope=row>1</th><td>1</td><td>1</td><td>1</td><td>1</td><td>私はその人を常に先生と呼んでいた。                                      </td></tr>\n",
       "\t<tr><th scope=row>2</th><td>1</td><td>1</td><td>1</td><td>2</td><td>だからここでもただ先生と書くだけで本名は打ち明けない。                  </td></tr>\n",
       "\t<tr><th scope=row>3</th><td>1</td><td>1</td><td>1</td><td>3</td><td>これは世間を憚かる遠慮というよりも、その方が私にとって自然だからである。</td></tr>\n",
       "\t<tr><th scope=row>4</th><td>1</td><td>1</td><td>1</td><td>4</td><td>私はその人の記憶を呼び起すごとに、すぐ「先生」といいたくなる。          </td></tr>\n",
       "\t<tr><th scope=row>5</th><td>1</td><td>1</td><td>1</td><td>5</td><td>筆を執っても心持は同じ事である。                                        </td></tr>\n",
       "\t<tr><th scope=row>6</th><td>1</td><td>1</td><td>1</td><td>6</td><td>よそよそしい頭文字などはとても使う気にならない。                        </td></tr>\n",
       "</tbody>\n",
       "</table>\n"
      ],
      "text/latex": [
       "A data.frame: 6 × 5\n",
       "\\begin{tabular}{r|lllll}\n",
       "  & part\\_id & section\\_id & paragraph\\_id & sentence\\_id & content\\\\\n",
       "  & <int> & <int> & <int> & <int> & <chr>\\\\\n",
       "\\hline\n",
       "\t1 & 1 & 1 & 1 & 1 & 私はその人を常に先生と呼んでいた。                                      \\\\\n",
       "\t2 & 1 & 1 & 1 & 2 & だからここでもただ先生と書くだけで本名は打ち明けない。                  \\\\\n",
       "\t3 & 1 & 1 & 1 & 3 & これは世間を憚かる遠慮というよりも、その方が私にとって自然だからである。\\\\\n",
       "\t4 & 1 & 1 & 1 & 4 & 私はその人の記憶を呼び起すごとに、すぐ「先生」といいたくなる。          \\\\\n",
       "\t5 & 1 & 1 & 1 & 5 & 筆を執っても心持は同じ事である。                                        \\\\\n",
       "\t6 & 1 & 1 & 1 & 6 & よそよそしい頭文字などはとても使う気にならない。                        \\\\\n",
       "\\end{tabular}\n"
      ],
      "text/markdown": [
       "\n",
       "A data.frame: 6 × 5\n",
       "\n",
       "| <!--/--> | part_id &lt;int&gt; | section_id &lt;int&gt; | paragraph_id &lt;int&gt; | sentence_id &lt;int&gt; | content &lt;chr&gt; |\n",
       "|---|---|---|---|---|---|\n",
       "| 1 | 1 | 1 | 1 | 1 | 私はその人を常に先生と呼んでいた。                                       |\n",
       "| 2 | 1 | 1 | 1 | 2 | だからここでもただ先生と書くだけで本名は打ち明けない。                   |\n",
       "| 3 | 1 | 1 | 1 | 3 | これは世間を憚かる遠慮というよりも、その方が私にとって自然だからである。 |\n",
       "| 4 | 1 | 1 | 1 | 4 | 私はその人の記憶を呼び起すごとに、すぐ「先生」といいたくなる。           |\n",
       "| 5 | 1 | 1 | 1 | 5 | 筆を執っても心持は同じ事である。                                         |\n",
       "| 6 | 1 | 1 | 1 | 6 | よそよそしい頭文字などはとても使う気にならない。                         |\n",
       "\n"
      ],
      "text/plain": [
       "  part_id section_id paragraph_id sentence_id\n",
       "1 1       1          1            1          \n",
       "2 1       1          1            2          \n",
       "3 1       1          1            3          \n",
       "4 1       1          1            4          \n",
       "5 1       1          1            5          \n",
       "6 1       1          1            6          \n",
       "  content                                                                 \n",
       "1 私はその人を常に先生と呼んでいた。                                      \n",
       "2 だからここでもただ先生と書くだけで本名は打ち明けない。                  \n",
       "3 これは世間を憚かる遠慮というよりも、その方が私にとって自然だからである。\n",
       "4 私はその人の記憶を呼び起すごとに、すぐ「先生」といいたくなる。          \n",
       "5 筆を執っても心持は同じ事である。                                        \n",
       "6 よそよそしい頭文字などはとても使う気にならない。                        "
      ]
     },
     "metadata": {},
     "output_type": "display_data"
    }
   ],
   "source": [
    "## sentenceごとにわける\n",
    "\n",
    "kokoro_sentence = read.delim('data/kokoro_sentence.tsv', header=T, sep='\\t', stringsAsFactor=F, fileEncoding='utf8')\n",
    "kokoro_sentence %>% head()\n",
    "\n"
   ]
  },
  {
   "cell_type": "code",
   "execution_count": 47,
   "metadata": {},
   "outputs": [],
   "source": [
    "# get_cooc = function(string, pos=c('名詞', '動詞'), unique=T, stopwords=c()){\n",
    "#     if(length(string) == 0){\n",
    "#         return(c())\n",
    "#     }\n",
    "#     words = RMeCabC(string, 1) %>% unlist()\n",
    "#     targets = words[names(words) %in% pos] \n",
    "#     if(unique){\n",
    "#         targets = unique(targets)\n",
    "#     }\n",
    "#     if(length(stopwords)){\n",
    "#         targets = targets[! targets %in% stopwords]\n",
    "#     }\n",
    "#     \n",
    "#     if(length(targets) < 2){\n",
    "#         return(c())\n",
    "#     }\n",
    "#     res = targets %>% sort() %>% combn(2)\n",
    "#     result = paste(res[1,], '-', res[2,], sep='')\n",
    "#     return(result)\n",
    "# }\n",
    "\n",
    "get_cooc = function(string, pos=c('名詞', '動詞'), with_pos=F, unique=T, stopwords=c(), dic=''){\n",
    "    if(length(string) == 0){\n",
    "        return(c())\n",
    "    }\n",
    "    words = RMeCabC(string, 1, dic=dic) %>% unlist()\n",
    "    targets = words[names(words) %in% pos] \n",
    "    if(unique){\n",
    "        #targets = unique(targets)\n",
    "        targets[!duplicated(targets)]\n",
    "    }\n",
    "    if(length(stopwords)){\n",
    "        targets = targets[! targets %in% stopwords]\n",
    "    }\n",
    "    \n",
    "    if(length(targets) < 2){\n",
    "        return(c())\n",
    "    }\n",
    "    \n",
    "    if(with_pos){\n",
    "        targets = str_c(targets,'/',names(targets))\n",
    "    }\n",
    "    res = combn(sort(targets),2)\n",
    "    \n",
    "    result = paste(res[1,], '-', res[2,], sep='')\n",
    "    return(result)\n",
    "}\n",
    "\n",
    "\n",
    "stopwords = c('事','の','よう','それ','もの', '人', '何','一', 'ん','方','二','前','気','中','上','今','ため', '時', 'そこ', 'どこ', 'これ', 'そう',\n",
    "              'いる', 'なる', 'する', 'いう', 'ある', 'れる', 'られる', 'くれる')\n"
   ]
  },
  {
   "cell_type": "code",
   "execution_count": 48,
   "metadata": {},
   "outputs": [
    {
     "data": {
      "text/html": [
       "35044"
      ],
      "text/latex": [
       "35044"
      ],
      "text/markdown": [
       "35044"
      ],
      "text/plain": [
       "[1] 35044"
      ]
     },
     "metadata": {},
     "output_type": "display_data"
    }
   ],
   "source": [
    "res = map(kokoro_sentence[,'content'], get_cooc, pos=c('名詞'), stopwords=stopwords)  %>% unlist() %>% table()\n",
    "res %>% dim()"
   ]
  },
  {
   "cell_type": "code",
   "execution_count": 49,
   "metadata": {},
   "outputs": [
    {
     "data": {
      "image/png": "[encoded data removed]",
      "text/plain": [
       "plot without title"
      ]
     },
     "metadata": {},
     "output_type": "display_data"
    }
   ],
   "source": [
    "res %>% as.vector() %>% sort(decreasing=T) %>% plot()\n"
   ]
  },
  {
   "cell_type": "code",
   "execution_count": 50,
   "metadata": {},
   "outputs": [
    {
     "data": {
      "image/png": "[encoded data removed]",
      "text/plain": [
       "plot without title"
      ]
     },
     "metadata": {},
     "output_type": "display_data"
    }
   ],
   "source": [
    "res %>% as.vector() %>% sort(decreasing=T) %>% plot(log='y')"
   ]
  },
  {
   "cell_type": "code",
   "execution_count": 51,
   "metadata": {},
   "outputs": [
    {
     "data": {
      "image/png": "[encoded data removed]",
      "text/plain": [
       "plot without title"
      ]
     },
     "metadata": {},
     "output_type": "display_data"
    }
   ],
   "source": [
    "res %>% as.vector() %>% sort(decreasing=T) %>% plot(log='xy')"
   ]
  },
  {
   "cell_type": "code",
   "execution_count": 52,
   "metadata": {},
   "outputs": [
    {
     "data": {
      "text/plain": [
       ".\n",
       "Ｋ-学年   Ｋ-後 Ｋ-向う   Ｋ-剛 Ｋ-仕方   Ｋ-情 \n",
       "      1       1       1       2       1       1 "
      ]
     },
     "metadata": {},
     "output_type": "display_data"
    }
   ],
   "source": [
    "# 各部ごとに共起を集計する\n",
    "part1 = map(kokoro_sentence[kokoro_sentence$part_id == 1,'content'], get_cooc, pos=c('名詞'), stopwords=stopwords) %>% unlist() %>% table()\n",
    "part2 = map(kokoro_sentence[kokoro_sentence$part_id == 2,'content'], get_cooc, pos=c('名詞'), stopwords=stopwords) %>% unlist() %>% table()\n",
    "part3 = map(kokoro_sentence[kokoro_sentence$part_id == 3,'content'], get_cooc, pos=c('名詞'), stopwords=stopwords) %>% unlist() %>% table()\n",
    "part3 %>% head()"
   ]
  },
  {
   "cell_type": "code",
   "execution_count": 53,
   "metadata": {},
   "outputs": [],
   "source": [
    "df1 = as.data.frame(part1)\n",
    "df2 = as.data.frame(part2)\n",
    "df3 = as.data.frame(part3)\n",
    "res = merge(x=df1, y=df2, by='.', all=T)\n",
    "res = merge(x=res, y=df3, by='.', all=T)\n",
    "colnames(res) = c('term', 'df1', 'df2', 'df3')\n",
    "res[is.na(res)] = 0"
   ]
  },
  {
   "cell_type": "code",
   "execution_count": 54,
   "metadata": {},
   "outputs": [
    {
     "data": {
      "image/png": "[encoded data removed]",
      "text/plain": [
       "plot without title"
      ]
     },
     "metadata": {},
     "output_type": "display_data"
    }
   ],
   "source": [
    "mat = res\n",
    "row.names(mat) = mat[,1]\n",
    "mat = mat[2:4]\n",
    "mat = mat[rowSums(mat) > 50, ]\n",
    "colnames(mat) = c('第一部','第二部','第三部')\n",
    "\n",
    "mat_t = t(mat)\n",
    "\n",
    "ratio = mat_t / colSums(mat)\n",
    "ratio_t = t(ratio)\n",
    "result = (ratio_t / colSums(ratio))  %>% prcomp()\n",
    "\n",
    "biplot(result)\n"
   ]
  }
 ],
 "metadata": {
  "kernelspec": {
   "display_name": "R",
   "language": "R",
   "name": "ir"
  },
  "language_info": {
   "codemirror_mode": "r",
   "file_extension": ".r",
   "mimetype": "text/x-r-source",
   "name": "R",
   "pygments_lexer": "r",
   "version": "3.4.4"
  }
 },
 "nbformat": 4,
 "nbformat_minor": 2
}
